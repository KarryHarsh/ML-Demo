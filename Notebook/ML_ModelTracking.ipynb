{
 "cells": [
  {
   "cell_type": "markdown",
   "id": "63e75848",
   "metadata": {},
   "source": [
    "## Import Libraries"
   ]
  },
  {
   "cell_type": "code",
   "execution_count": 52,
   "id": "50874150",
   "metadata": {},
   "outputs": [],
   "source": [
    "# Data analysis library\n",
    "import numpy as np\n",
    "import pandas as pd\n",
    "import joblib\n",
    "import seaborn as sns\n",
    "%matplotlib inline\n",
    "# Machine Learning library\n",
    "import sklearn\n",
    "from sklearn.metrics import roc_curve, auc, accuracy_score, plot_confusion_matrix, plot_roc_curve\n",
    "from sklearn.preprocessing import LabelEncoder\n",
    "from sklearn.model_selection import train_test_split\n",
    "import lightgbm as lgb\n",
    "from lightgbm import LGBMClassifier\n",
    "from lightgbm import plot_importance, plot_metric\n",
    "from sklearn.metrics import f1_score\n",
    "# Hyperparameter tunning library\n",
    "import optuna\n",
    "\n",
    "# Model experimentation library\n",
    "import mlflow\n",
    "import mlflow.lightgbm\n",
    "from mlflow.tracking import MlflowClient\n",
    "\n",
    "import pickle\n",
    "# Plotting library\n",
    "import matplotlib.pyplot as plt\n",
    "# Prevent figures from displaying by turning interactive mode off using the function\n",
    "plt.ioff()\n",
    "import warnings\n",
    "warnings.filterwarnings(\"ignore\")"
   ]
  },
  {
   "cell_type": "code",
   "execution_count": 53,
   "id": "079693be",
   "metadata": {},
   "outputs": [
    {
     "name": "stdout",
     "output_type": "stream",
     "text": [
      "Numpy version is 1.20.2\n",
      "Pandas version is 1.2.4\n",
      "sklearn version is 0.24.1\n",
      "joblib version is 1.0.1\n",
      "optuna version is 2.7.0\n",
      "mlflow version is 1.15.0\n"
     ]
    }
   ],
   "source": [
    "print(f'Numpy version is {np.__version__}')\n",
    "print(f'Pandas version is {pd.__version__}')\n",
    "print(f'sklearn version is {sklearn.__version__}')\n",
    "print(f'joblib version is {joblib.__version__}')\n",
    "print(f'optuna version is {optuna.__version__}')\n",
    "print(f'mlflow version is {mlflow.__version__}')"
   ]
  },
  {
   "cell_type": "markdown",
   "id": "aa8d69e6",
   "metadata": {},
   "source": [
    "## Load Dataset\n"
   ]
  },
  {
   "cell_type": "code",
   "execution_count": 54,
   "id": "a009e5f3",
   "metadata": {},
   "outputs": [
    {
     "name": "stdout",
     "output_type": "stream",
     "text": [
      "The dataset has 532428 samples with 45 features.\n"
     ]
    }
   ],
   "source": [
    "## Files\n",
    "data_file = 'dataset/train.csv'\n",
    "\n",
    "# to display all the columns of the dataframe in the notebook\n",
    "pd.set_option('display.max_columns', None)\n",
    "# Load train loan dataset \n",
    "try:\n",
    "    df = pd.read_csv(data_file)\n",
    "    print(\"The dataset has {} samples with {} features.\".format(*df.shape))\n",
    "except:\n",
    "    print(\"The dataset could not be loaded. Is the dataset missing?\")"
   ]
  },
  {
   "cell_type": "code",
   "execution_count": 55,
   "id": "de95d712",
   "metadata": {},
   "outputs": [
    {
     "data": {
      "text/html": [
       "<div>\n",
       "<style scoped>\n",
       "    .dataframe tbody tr th:only-of-type {\n",
       "        vertical-align: middle;\n",
       "    }\n",
       "\n",
       "    .dataframe tbody tr th {\n",
       "        vertical-align: top;\n",
       "    }\n",
       "\n",
       "    .dataframe thead th {\n",
       "        text-align: right;\n",
       "    }\n",
       "</style>\n",
       "<table border=\"1\" class=\"dataframe\">\n",
       "  <thead>\n",
       "    <tr style=\"text-align: right;\">\n",
       "      <th></th>\n",
       "      <th>member_id</th>\n",
       "      <th>loan_amnt</th>\n",
       "      <th>funded_amnt</th>\n",
       "      <th>funded_amnt_inv</th>\n",
       "      <th>term</th>\n",
       "      <th>batch_enrolled</th>\n",
       "      <th>int_rate</th>\n",
       "      <th>grade</th>\n",
       "      <th>sub_grade</th>\n",
       "      <th>emp_title</th>\n",
       "      <th>emp_length</th>\n",
       "      <th>home_ownership</th>\n",
       "      <th>annual_inc</th>\n",
       "      <th>verification_status</th>\n",
       "      <th>pymnt_plan</th>\n",
       "      <th>desc</th>\n",
       "      <th>purpose</th>\n",
       "      <th>title</th>\n",
       "      <th>zip_code</th>\n",
       "      <th>addr_state</th>\n",
       "      <th>dti</th>\n",
       "      <th>delinq_2yrs</th>\n",
       "      <th>inq_last_6mths</th>\n",
       "      <th>mths_since_last_delinq</th>\n",
       "      <th>mths_since_last_record</th>\n",
       "      <th>open_acc</th>\n",
       "      <th>pub_rec</th>\n",
       "      <th>revol_bal</th>\n",
       "      <th>revol_util</th>\n",
       "      <th>total_acc</th>\n",
       "      <th>initial_list_status</th>\n",
       "      <th>total_rec_int</th>\n",
       "      <th>total_rec_late_fee</th>\n",
       "      <th>recoveries</th>\n",
       "      <th>collection_recovery_fee</th>\n",
       "      <th>collections_12_mths_ex_med</th>\n",
       "      <th>mths_since_last_major_derog</th>\n",
       "      <th>application_type</th>\n",
       "      <th>verification_status_joint</th>\n",
       "      <th>last_week_pay</th>\n",
       "      <th>acc_now_delinq</th>\n",
       "      <th>tot_coll_amt</th>\n",
       "      <th>tot_cur_bal</th>\n",
       "      <th>total_rev_hi_lim</th>\n",
       "      <th>loan_status</th>\n",
       "    </tr>\n",
       "  </thead>\n",
       "  <tbody>\n",
       "    <tr>\n",
       "      <th>0</th>\n",
       "      <td>58189336</td>\n",
       "      <td>14350</td>\n",
       "      <td>14350</td>\n",
       "      <td>14350.0</td>\n",
       "      <td>36 months</td>\n",
       "      <td></td>\n",
       "      <td>19.19</td>\n",
       "      <td>E</td>\n",
       "      <td>E3</td>\n",
       "      <td>clerk</td>\n",
       "      <td>9 years</td>\n",
       "      <td>OWN</td>\n",
       "      <td>28700.0</td>\n",
       "      <td>Source Verified</td>\n",
       "      <td>n</td>\n",
       "      <td>NaN</td>\n",
       "      <td>debt_consolidation</td>\n",
       "      <td>Debt consolidation</td>\n",
       "      <td>349xx</td>\n",
       "      <td>FL</td>\n",
       "      <td>33.88</td>\n",
       "      <td>0.0</td>\n",
       "      <td>1.0</td>\n",
       "      <td>50.0</td>\n",
       "      <td>75.0</td>\n",
       "      <td>14.0</td>\n",
       "      <td>1.0</td>\n",
       "      <td>22515.0</td>\n",
       "      <td>73.1</td>\n",
       "      <td>28.0</td>\n",
       "      <td>f</td>\n",
       "      <td>1173.84</td>\n",
       "      <td>0.0</td>\n",
       "      <td>0.0</td>\n",
       "      <td>0.0</td>\n",
       "      <td>0.0</td>\n",
       "      <td>74.0</td>\n",
       "      <td>INDIVIDUAL</td>\n",
       "      <td>NaN</td>\n",
       "      <td>26th week</td>\n",
       "      <td>0.0</td>\n",
       "      <td>0.0</td>\n",
       "      <td>28699.0</td>\n",
       "      <td>30800.0</td>\n",
       "      <td>0</td>\n",
       "    </tr>\n",
       "    <tr>\n",
       "      <th>1</th>\n",
       "      <td>70011223</td>\n",
       "      <td>4800</td>\n",
       "      <td>4800</td>\n",
       "      <td>4800.0</td>\n",
       "      <td>36 months</td>\n",
       "      <td>BAT1586599</td>\n",
       "      <td>10.99</td>\n",
       "      <td>B</td>\n",
       "      <td>B4</td>\n",
       "      <td>Human Resources Specialist</td>\n",
       "      <td>&lt; 1 year</td>\n",
       "      <td>MORTGAGE</td>\n",
       "      <td>65000.0</td>\n",
       "      <td>Source Verified</td>\n",
       "      <td>n</td>\n",
       "      <td>NaN</td>\n",
       "      <td>home_improvement</td>\n",
       "      <td>Home improvement</td>\n",
       "      <td>209xx</td>\n",
       "      <td>MD</td>\n",
       "      <td>3.64</td>\n",
       "      <td>0.0</td>\n",
       "      <td>1.0</td>\n",
       "      <td>NaN</td>\n",
       "      <td>NaN</td>\n",
       "      <td>6.0</td>\n",
       "      <td>0.0</td>\n",
       "      <td>7624.0</td>\n",
       "      <td>23.2</td>\n",
       "      <td>13.0</td>\n",
       "      <td>w</td>\n",
       "      <td>83.95</td>\n",
       "      <td>0.0</td>\n",
       "      <td>0.0</td>\n",
       "      <td>0.0</td>\n",
       "      <td>0.0</td>\n",
       "      <td>NaN</td>\n",
       "      <td>INDIVIDUAL</td>\n",
       "      <td>NaN</td>\n",
       "      <td>9th week</td>\n",
       "      <td>0.0</td>\n",
       "      <td>0.0</td>\n",
       "      <td>9974.0</td>\n",
       "      <td>32900.0</td>\n",
       "      <td>0</td>\n",
       "    </tr>\n",
       "    <tr>\n",
       "      <th>2</th>\n",
       "      <td>70255675</td>\n",
       "      <td>10000</td>\n",
       "      <td>10000</td>\n",
       "      <td>10000.0</td>\n",
       "      <td>36 months</td>\n",
       "      <td>BAT1586599</td>\n",
       "      <td>7.26</td>\n",
       "      <td>A</td>\n",
       "      <td>A4</td>\n",
       "      <td>Driver</td>\n",
       "      <td>2 years</td>\n",
       "      <td>OWN</td>\n",
       "      <td>45000.0</td>\n",
       "      <td>Not Verified</td>\n",
       "      <td>n</td>\n",
       "      <td>NaN</td>\n",
       "      <td>debt_consolidation</td>\n",
       "      <td>Debt consolidation</td>\n",
       "      <td>447xx</td>\n",
       "      <td>OH</td>\n",
       "      <td>18.42</td>\n",
       "      <td>0.0</td>\n",
       "      <td>0.0</td>\n",
       "      <td>NaN</td>\n",
       "      <td>NaN</td>\n",
       "      <td>5.0</td>\n",
       "      <td>0.0</td>\n",
       "      <td>10877.0</td>\n",
       "      <td>31.2</td>\n",
       "      <td>19.0</td>\n",
       "      <td>w</td>\n",
       "      <td>56.47</td>\n",
       "      <td>0.0</td>\n",
       "      <td>0.0</td>\n",
       "      <td>0.0</td>\n",
       "      <td>0.0</td>\n",
       "      <td>NaN</td>\n",
       "      <td>INDIVIDUAL</td>\n",
       "      <td>NaN</td>\n",
       "      <td>9th week</td>\n",
       "      <td>0.0</td>\n",
       "      <td>65.0</td>\n",
       "      <td>38295.0</td>\n",
       "      <td>34900.0</td>\n",
       "      <td>0</td>\n",
       "    </tr>\n",
       "    <tr>\n",
       "      <th>3</th>\n",
       "      <td>1893936</td>\n",
       "      <td>15000</td>\n",
       "      <td>15000</td>\n",
       "      <td>15000.0</td>\n",
       "      <td>36 months</td>\n",
       "      <td>BAT4808022</td>\n",
       "      <td>19.72</td>\n",
       "      <td>D</td>\n",
       "      <td>D5</td>\n",
       "      <td>Us office of Personnel Management</td>\n",
       "      <td>10+ years</td>\n",
       "      <td>RENT</td>\n",
       "      <td>105000.0</td>\n",
       "      <td>Not Verified</td>\n",
       "      <td>n</td>\n",
       "      <td>&gt; My goal is to obtain a loan to pay off my hi...</td>\n",
       "      <td>debt_consolidation</td>\n",
       "      <td>Debt consolidation</td>\n",
       "      <td>221xx</td>\n",
       "      <td>VA</td>\n",
       "      <td>14.97</td>\n",
       "      <td>0.0</td>\n",
       "      <td>2.0</td>\n",
       "      <td>46.0</td>\n",
       "      <td>NaN</td>\n",
       "      <td>10.0</td>\n",
       "      <td>0.0</td>\n",
       "      <td>13712.0</td>\n",
       "      <td>55.5</td>\n",
       "      <td>21.0</td>\n",
       "      <td>f</td>\n",
       "      <td>4858.62</td>\n",
       "      <td>0.0</td>\n",
       "      <td>0.0</td>\n",
       "      <td>0.0</td>\n",
       "      <td>0.0</td>\n",
       "      <td>NaN</td>\n",
       "      <td>INDIVIDUAL</td>\n",
       "      <td>NaN</td>\n",
       "      <td>135th week</td>\n",
       "      <td>0.0</td>\n",
       "      <td>0.0</td>\n",
       "      <td>55564.0</td>\n",
       "      <td>24700.0</td>\n",
       "      <td>0</td>\n",
       "    </tr>\n",
       "    <tr>\n",
       "      <th>4</th>\n",
       "      <td>7652106</td>\n",
       "      <td>16000</td>\n",
       "      <td>16000</td>\n",
       "      <td>16000.0</td>\n",
       "      <td>36 months</td>\n",
       "      <td>BAT2833642</td>\n",
       "      <td>10.64</td>\n",
       "      <td>B</td>\n",
       "      <td>B2</td>\n",
       "      <td>LAUSD-HOLLYWOOD HIGH SCHOOL</td>\n",
       "      <td>10+ years</td>\n",
       "      <td>RENT</td>\n",
       "      <td>52000.0</td>\n",
       "      <td>Verified</td>\n",
       "      <td>n</td>\n",
       "      <td>NaN</td>\n",
       "      <td>credit_card</td>\n",
       "      <td>refi</td>\n",
       "      <td>900xx</td>\n",
       "      <td>CA</td>\n",
       "      <td>20.16</td>\n",
       "      <td>0.0</td>\n",
       "      <td>0.0</td>\n",
       "      <td>NaN</td>\n",
       "      <td>NaN</td>\n",
       "      <td>11.0</td>\n",
       "      <td>0.0</td>\n",
       "      <td>35835.0</td>\n",
       "      <td>76.2</td>\n",
       "      <td>27.0</td>\n",
       "      <td>w</td>\n",
       "      <td>2296.41</td>\n",
       "      <td>0.0</td>\n",
       "      <td>0.0</td>\n",
       "      <td>0.0</td>\n",
       "      <td>0.0</td>\n",
       "      <td>NaN</td>\n",
       "      <td>INDIVIDUAL</td>\n",
       "      <td>NaN</td>\n",
       "      <td>96th week</td>\n",
       "      <td>0.0</td>\n",
       "      <td>0.0</td>\n",
       "      <td>47159.0</td>\n",
       "      <td>47033.0</td>\n",
       "      <td>0</td>\n",
       "    </tr>\n",
       "  </tbody>\n",
       "</table>\n",
       "</div>"
      ],
      "text/plain": [
       "   member_id  loan_amnt  funded_amnt  funded_amnt_inv       term  \\\n",
       "0   58189336      14350        14350          14350.0  36 months   \n",
       "1   70011223       4800         4800           4800.0  36 months   \n",
       "2   70255675      10000        10000          10000.0  36 months   \n",
       "3    1893936      15000        15000          15000.0  36 months   \n",
       "4    7652106      16000        16000          16000.0  36 months   \n",
       "\n",
       "  batch_enrolled  int_rate grade sub_grade                          emp_title  \\\n",
       "0                    19.19     E        E3                              clerk   \n",
       "1     BAT1586599     10.99     B        B4         Human Resources Specialist   \n",
       "2     BAT1586599      7.26     A        A4                             Driver   \n",
       "3     BAT4808022     19.72     D        D5  Us office of Personnel Management   \n",
       "4     BAT2833642     10.64     B        B2        LAUSD-HOLLYWOOD HIGH SCHOOL   \n",
       "\n",
       "  emp_length home_ownership  annual_inc verification_status pymnt_plan  \\\n",
       "0    9 years            OWN     28700.0     Source Verified          n   \n",
       "1   < 1 year       MORTGAGE     65000.0     Source Verified          n   \n",
       "2    2 years            OWN     45000.0        Not Verified          n   \n",
       "3  10+ years           RENT    105000.0        Not Verified          n   \n",
       "4  10+ years           RENT     52000.0            Verified          n   \n",
       "\n",
       "                                                desc             purpose  \\\n",
       "0                                                NaN  debt_consolidation   \n",
       "1                                                NaN    home_improvement   \n",
       "2                                                NaN  debt_consolidation   \n",
       "3  > My goal is to obtain a loan to pay off my hi...  debt_consolidation   \n",
       "4                                                NaN         credit_card   \n",
       "\n",
       "                title zip_code addr_state    dti  delinq_2yrs  inq_last_6mths  \\\n",
       "0  Debt consolidation    349xx         FL  33.88          0.0             1.0   \n",
       "1    Home improvement    209xx         MD   3.64          0.0             1.0   \n",
       "2  Debt consolidation    447xx         OH  18.42          0.0             0.0   \n",
       "3  Debt consolidation    221xx         VA  14.97          0.0             2.0   \n",
       "4                refi    900xx         CA  20.16          0.0             0.0   \n",
       "\n",
       "   mths_since_last_delinq  mths_since_last_record  open_acc  pub_rec  \\\n",
       "0                    50.0                    75.0      14.0      1.0   \n",
       "1                     NaN                     NaN       6.0      0.0   \n",
       "2                     NaN                     NaN       5.0      0.0   \n",
       "3                    46.0                     NaN      10.0      0.0   \n",
       "4                     NaN                     NaN      11.0      0.0   \n",
       "\n",
       "   revol_bal  revol_util  total_acc initial_list_status  total_rec_int  \\\n",
       "0    22515.0        73.1       28.0                   f        1173.84   \n",
       "1     7624.0        23.2       13.0                   w          83.95   \n",
       "2    10877.0        31.2       19.0                   w          56.47   \n",
       "3    13712.0        55.5       21.0                   f        4858.62   \n",
       "4    35835.0        76.2       27.0                   w        2296.41   \n",
       "\n",
       "   total_rec_late_fee  recoveries  collection_recovery_fee  \\\n",
       "0                 0.0         0.0                      0.0   \n",
       "1                 0.0         0.0                      0.0   \n",
       "2                 0.0         0.0                      0.0   \n",
       "3                 0.0         0.0                      0.0   \n",
       "4                 0.0         0.0                      0.0   \n",
       "\n",
       "   collections_12_mths_ex_med  mths_since_last_major_derog application_type  \\\n",
       "0                         0.0                         74.0       INDIVIDUAL   \n",
       "1                         0.0                          NaN       INDIVIDUAL   \n",
       "2                         0.0                          NaN       INDIVIDUAL   \n",
       "3                         0.0                          NaN       INDIVIDUAL   \n",
       "4                         0.0                          NaN       INDIVIDUAL   \n",
       "\n",
       "  verification_status_joint last_week_pay  acc_now_delinq  tot_coll_amt  \\\n",
       "0                       NaN     26th week             0.0           0.0   \n",
       "1                       NaN      9th week             0.0           0.0   \n",
       "2                       NaN      9th week             0.0          65.0   \n",
       "3                       NaN    135th week             0.0           0.0   \n",
       "4                       NaN     96th week             0.0           0.0   \n",
       "\n",
       "   tot_cur_bal  total_rev_hi_lim  loan_status  \n",
       "0      28699.0           30800.0            0  \n",
       "1       9974.0           32900.0            0  \n",
       "2      38295.0           34900.0            0  \n",
       "3      55564.0           24700.0            0  \n",
       "4      47159.0           47033.0            0  "
      ]
     },
     "execution_count": 55,
     "metadata": {},
     "output_type": "execute_result"
    }
   ],
   "source": [
    "df.head()"
   ]
  },
  {
   "cell_type": "markdown",
   "id": "f0c77bfe",
   "metadata": {},
   "source": [
    "## Tracking Experiments"
   ]
  },
  {
   "cell_type": "markdown",
   "id": "f8056484",
   "metadata": {},
   "source": [
    "### Tracking  Metadata \n",
    "\n",
    "MLflow supports two types of backend stores: *file store* and *database-backed* store.\n",
    "\n",
    "- Local file path (specified as file:/my/local/dir), where data is just directly stored locally. Defaults to `mlruns/`\n",
    "- Database encoded as <dialect>+<driver>://<username>:<password>@<host>:<port>/<database>. Mlflow supports the dialects mysql, mssql, sqlite, and postgresql. For more details, see SQLAlchemy database uri.\n",
    "- HTTP server (specified as https://my-server:5000), which is a server hosting an MLFlow tracking server.\n",
    " \n",
    "**For this Demo we are usking Sqlite as a Database to store metadata.**\n",
    "\n",
    "### Artifact stores\n",
    "- Amazon S3\n",
    "- Azure Blob Storage\n",
    "- Google Cloud Storage\n",
    "- FTP server\n",
    "- SFTP Server\n",
    "- NFS\n",
    "- HDFS\n",
    "    \n",
    "**We are using local mlrun folder to store all required artifacts.**"
   ]
  },
  {
   "cell_type": "markdown",
   "id": "3991bf6e",
   "metadata": {},
   "source": [
    "Base Syntax to start mlflow as a service\n",
    "\n",
    "```\n",
    "mlflow server \\\n",
    "    --backend-store-uri /mnt/persistent-disk \\\n",
    "    --default-artifact-root s3://my-mlflow-bucket/ \\\n",
    "    --host 0.0.0.0\n",
    "    --port 5000\n",
    "```\n",
    "![alt text](images/localhost_sqlite.png \"Title\")\n",
    "**Note:** To start the service for this experiment copy below command and execute it in Anaconda prompt\n",
    "```bash\n",
    "mlflow server --backend-store-uri sqlite:///mlflow.db --default-artifact-root mlruns/ --host 127.0.0.1 --port 5000\n",
    "```"
   ]
  },
  {
   "cell_type": "code",
   "execution_count": 56,
   "id": "2b3fa583",
   "metadata": {},
   "outputs": [],
   "source": [
    "experiment_name = \"Loan deaulter predictionv1\"\n",
    "artifact_repository = './mlflow'\n",
    "\n",
    "# Provide uri and connect to your tracking server\n",
    "mlflow.set_tracking_uri('http://127.0.0.1:5000/')\n",
    "\n",
    "# Initialize client\n",
    "client = MlflowClient()\n",
    "\n",
    "# If experiment doesn't exist then it will create new\n",
    "# else it will take the experiment id and will use to to run the experiments\n",
    "try:\n",
    "    # Create experiment \n",
    "    experiment_id = client.create_experiment(experiment_name, artifact_location=artifact_repository)\n",
    "except:\n",
    "    # Get the experiment id if it already exists\n",
    "    experiment_id = client.get_experiment_by_name(experiment_name).experiment_id"
   ]
  },
  {
   "cell_type": "markdown",
   "id": "2c989d0a",
   "metadata": {},
   "source": [
    "## Separate dataset into train and test"
   ]
  },
  {
   "cell_type": "code",
   "execution_count": 57,
   "id": "389af9bc",
   "metadata": {},
   "outputs": [
    {
     "data": {
      "text/plain": [
       "((479185, 45), (53243, 45))"
      ]
     },
     "execution_count": 57,
     "metadata": {},
     "output_type": "execute_result"
    }
   ],
   "source": [
    "# Let's separate into train and test set\n",
    "# Remember to seet the seed (random_state for this sklearn function)\n",
    "\n",
    "X_train, X_test, y_train, y_test = train_test_split(df, df.loan_status,\n",
    "                                                    test_size=0.1,\n",
    "                                                    random_state=42) # we are setting the seed here\n",
    "X_train.shape, X_test.shape"
   ]
  },
  {
   "cell_type": "markdown",
   "id": "701f04d0",
   "metadata": {},
   "source": [
    "\n",
    "**Remember: the aim of this demo and this particular project is to show you how use mlflow for tracking and put models in production. Surely there are additional things you can do on this dataset, to extract additional value from the features.**\n",
    "\n",
    "**In order to capitalise on the deployment aspect of things, we deliberately kept the engineering side simple, yet include many of the traditional engineering steps, so you get a full flavour of building and deploying a machine learning model.**"
   ]
  },
  {
   "cell_type": "markdown",
   "id": "0691649c",
   "metadata": {},
   "source": [
    "## Handling Missing Value as NaN"
   ]
  },
  {
   "cell_type": "code",
   "execution_count": 58,
   "id": "030d3a75",
   "metadata": {
    "scrolled": false
   },
   "outputs": [
    {
     "data": {
      "text/plain": [
       "member_id                       0.000000\n",
       "loan_amnt                       0.000000\n",
       "funded_amnt                     0.000000\n",
       "funded_amnt_inv                 0.000000\n",
       "term                            0.000000\n",
       "batch_enrolled                 35.907635\n",
       "int_rate                        0.000000\n",
       "grade                           0.000000\n",
       "sub_grade                       0.000000\n",
       "emp_title                       5.787952\n",
       "emp_length                      5.044816\n",
       "home_ownership                  0.000000\n",
       "annual_inc                      0.000626\n",
       "verification_status             0.000000\n",
       "pymnt_plan                      0.000000\n",
       "desc                           85.810073\n",
       "purpose                         0.000000\n",
       "title                           0.017321\n",
       "zip_code                        0.000000\n",
       "addr_state                      0.000000\n",
       "dti                             0.000000\n",
       "delinq_2yrs                     0.002713\n",
       "inq_last_6mths                  0.002713\n",
       "mths_since_last_delinq         51.149139\n",
       "mths_since_last_record         84.590294\n",
       "open_acc                        0.002713\n",
       "pub_rec                         0.002713\n",
       "revol_bal                       0.000000\n",
       "revol_util                      0.053007\n",
       "total_acc                       0.002713\n",
       "initial_list_status             0.000000\n",
       "total_rec_int                   0.000000\n",
       "total_rec_late_fee              0.000000\n",
       "recoveries                      0.000000\n",
       "collection_recovery_fee         0.000000\n",
       "collections_12_mths_ex_med      0.017112\n",
       "mths_since_last_major_derog    74.979392\n",
       "application_type                0.000000\n",
       "verification_status_joint      99.943446\n",
       "last_week_pay                   0.000000\n",
       "acc_now_delinq                  0.002713\n",
       "tot_coll_amt                    7.896741\n",
       "tot_cur_bal                     7.896741\n",
       "total_rev_hi_lim                7.896741\n",
       "loan_status                     0.000000\n",
       "dtype: float64"
      ]
     },
     "execution_count": 58,
     "metadata": {},
     "output_type": "execute_result"
    }
   ],
   "source": [
    "# converting blank value to NaN value.\n",
    "X_train = X_train.replace(' ', np.nan)\n",
    "X_test = X_test.replace(' ', np.nan)\n",
    "\n",
    "#ratio of null values\n",
    "X_train.isnull().sum()/X_train.shape[0] *100"
   ]
  },
  {
   "cell_type": "code",
   "execution_count": 71,
   "id": "8a054e73",
   "metadata": {},
   "outputs": [],
   "source": [
    "# to create a file as pickle\n",
    "def picklesave(filename,file):\n",
    "    with open(filename, 'wb') as handle:\n",
    "        pickle.dump(file, handle, protocol=pickle.HIGHEST_PROTOCOL)"
   ]
  },
  {
   "cell_type": "markdown",
   "id": "7adb23f6",
   "metadata": {},
   "source": [
    "## Converting into numerical feature and New feature"
   ]
  },
  {
   "cell_type": "code",
   "execution_count": 60,
   "id": "e03cee89",
   "metadata": {},
   "outputs": [],
   "source": [
    "emp_len_dict = {'< 1 year':0,'1 year':1,'2 years':2,'3 years':3,'4 years':4,'5 years':5,'6 years':6,'7 years':7,'8 years':8,'9 years':9,'10+ years':10}\n",
    "X_train['emp_length'] = X_train['emp_length'].map(emp_len_dict)\n",
    "X_test['emp_length'] = X_test['emp_length'].map(emp_len_dict)\n",
    "\n",
    "picklesave('artifacts/emp_len_dict.pickle', emp_len_dict)\n",
    "\n",
    "# create the temporal var\n",
    "X_train['Long_emp_length'] = X_train['emp_length'].apply(lambda x : 'Yes' if x==10 else 'No')\n",
    "X_test['Long_emp_length'] = X_test['emp_length'].apply(lambda x : 'Yes' if x==10 else 'No')\n",
    "\n"
   ]
  },
  {
   "cell_type": "markdown",
   "id": "0b0b2a00",
   "metadata": {},
   "source": [
    "## Handling Missing categorical values\n",
    "\n",
    "For categorical variables, we will fill missing information by adding an additional category: \"missing\""
   ]
  },
  {
   "cell_type": "code",
   "execution_count": 61,
   "id": "a3f60622",
   "metadata": {},
   "outputs": [
    {
     "name": "stdout",
     "output_type": "stream",
     "text": [
      "term 0.0  % missing values\n",
      "batch_enrolled 0.359  % missing values\n",
      "grade 0.0  % missing values\n",
      "sub_grade 0.0  % missing values\n",
      "emp_title 0.058  % missing values\n",
      "home_ownership 0.0  % missing values\n",
      "verification_status 0.0  % missing values\n",
      "pymnt_plan 0.0  % missing values\n",
      "desc 0.858  % missing values\n",
      "purpose 0.0  % missing values\n",
      "title 0.0  % missing values\n",
      "zip_code 0.0  % missing values\n",
      "addr_state 0.0  % missing values\n",
      "initial_list_status 0.0  % missing values\n",
      "application_type 0.0  % missing values\n",
      "verification_status_joint 0.999  % missing values\n",
      "last_week_pay 0.0  % missing values\n",
      "Long_emp_length 0.0  % missing values\n"
     ]
    }
   ],
   "source": [
    "# make a list of the categorical variables that contain missing values\n",
    "vars_with_na = [var for var in X_train.columns if X_train[var].dtypes=='O']\n",
    "\n",
    "# print the variable name and the percentage of missing values\n",
    "for var in vars_with_na:\n",
    "    print(var, np.round(X_train[var].isnull().mean(), 3),  ' % missing values')"
   ]
  },
  {
   "cell_type": "code",
   "execution_count": 62,
   "id": "35b8fbbb",
   "metadata": {},
   "outputs": [],
   "source": [
    "# function to replace NA in categorical variables\n",
    "for col in [\"emp_title\",\"title\"]:\n",
    "    X_train[col].fillna('Missing',inplace=True)\n",
    "    X_test[col].fillna('Missing',inplace=True)\n",
    "    \n",
    "X_train[vars_with_na].isnull().sum()"
   ]
  },
  {
   "cell_type": "markdown",
   "id": "9c7aa490",
   "metadata": {},
   "source": [
    "## Handling Missing Numerical values"
   ]
  },
  {
   "cell_type": "code",
   "execution_count": 64,
   "id": "1dde391e",
   "metadata": {
    "scrolled": true
   },
   "outputs": [
    {
     "data": {
      "text/plain": [
       "emp_length                    0\n",
       "annual_inc                    0\n",
       "delinq_2yrs                   0\n",
       "inq_last_6mths                0\n",
       "open_acc                      0\n",
       "pub_rec                       0\n",
       "revol_util                    0\n",
       "total_acc                     0\n",
       "collections_12_mths_ex_med    0\n",
       "acc_now_delinq                0\n",
       "tot_coll_amt                  0\n",
       "tot_cur_bal                   0\n",
       "total_rev_hi_lim              0\n",
       "dtype: int64"
      ]
     },
     "execution_count": 64,
     "metadata": {},
     "output_type": "execute_result"
    }
   ],
   "source": [
    "mean_var_dict = {}\n",
    "impute_col = ['emp_length','annual_inc','delinq_2yrs','inq_last_6mths','open_acc','pub_rec','revol_util','total_acc','collections_12_mths_ex_med','acc_now_delinq','tot_coll_amt','tot_cur_bal','total_rev_hi_lim']\n",
    "# Imputing with Mean\n",
    "#impute_col = df.select_dtypes(include=['int64', 'float64']).columns.tolist()\n",
    "for col in impute_col:\n",
    "    # calculate the mean\n",
    "    mean_val = X_train[col].mean()\n",
    "    \n",
    "    X_train[col].fillna(mean_val, inplace=True)\n",
    "    X_test[col].fillna(mean_val, inplace=True)\n",
    "    # we persist the mean in the dictionary\n",
    "    mean_var_dict[col] = mean_val\n",
    "# we save the dictionary for later\n",
    "picklesave('artifacts/mean_var_dict.pickle', mean_var_dict)\n",
    "#print(mean_var_dict)\n",
    "X_train[impute_col].isnull().sum()"
   ]
  },
  {
   "cell_type": "markdown",
   "id": "fc9e9c92",
   "metadata": {},
   "source": [
    "## Handling Rare values "
   ]
  },
  {
   "cell_type": "code",
   "execution_count": 65,
   "id": "ddfaef60",
   "metadata": {},
   "outputs": [],
   "source": [
    "# define your threshold here\n",
    "\n",
    "threshlold = 0.0005\n",
    "frequent_labels_dict = {}\n",
    "\n",
    "categorical_col = [\"zip_code\",'last_week_pay','emp_title']\n",
    "\n",
    "for variable in categorical_col:\n",
    "    # locate all the categories that are not rare.\n",
    "    counts = X_train.groupby([variable])[variable].count() / len(X_train)\n",
    "    frequent_labels = [x for x in counts.loc[counts>threshlold].index.values]\n",
    "    frequent_labels_dict[variable] = frequent_labels\n",
    "\n",
    "    # change the rare category names with the word rare, and thus encoding it.\n",
    "    X_train[variable] = np.where(X_train[variable].isin(frequent_labels), X_train[variable], 'Rare')\n",
    "    X_test[variable] = np.where(X_test[variable].isin(frequent_labels), X_test[variable], 'Rare')\n",
    "\n",
    "# now we save the dictionary\n",
    "picklesave('artifacts/FrequentLabels.pickle', frequent_labels_dict)"
   ]
  },
  {
   "cell_type": "markdown",
   "id": "cab46659",
   "metadata": {},
   "source": [
    "## Feature Selection"
   ]
  },
  {
   "cell_type": "code",
   "execution_count": 66,
   "id": "1a9a1fea",
   "metadata": {},
   "outputs": [],
   "source": [
    "exclude_feature = ['loan_amnt','funded_amnt','title','batch_enrolled','member_id','loan_status','desc','mths_since_last_delinq','mths_since_last_record','mths_since_last_major_derog','verification_status_joint']\n",
    "# Define Target columns\n",
    "#target = data['loan_status']\n",
    "\n",
    "# Define numeric and categorical features\n",
    "numeric_columns = X_train.select_dtypes(include=['int64', 'float64']).columns.tolist()\n",
    "categorical_columns = X_train.select_dtypes(include=['object']).columns.tolist()\n",
    "numeric_features = [col for col in numeric_columns if col not in exclude_feature]\n",
    "categorical_features = [col for col in categorical_columns if col not in exclude_feature]\n",
    "\n",
    "# Define final feature list for training and validation\n",
    "features = numeric_features + categorical_features\n",
    "# Final data for training and validation\n",
    "X_train = X_train[features]\n",
    "X_train = X_train.fillna(0)\n",
    "# now we save the selected list of features\n",
    "pd.Series(features).to_csv('artifacts/selected_features.csv', index=False)"
   ]
  },
  {
   "cell_type": "markdown",
   "id": "9f5024f3",
   "metadata": {},
   "source": [
    "## Categorical feature Encoding"
   ]
  },
  {
   "cell_type": "code",
   "execution_count": 67,
   "id": "c40c856c",
   "metadata": {},
   "outputs": [],
   "source": [
    "# Split data in train and validation\n",
    "X_train, X_valid, y_train, y_valid = train_test_split(X_train, y_train, test_size=0.15, random_state=42)\n",
    "\n",
    "label_dict = {}\n",
    "\n",
    "\n",
    "# Perform label encoding for categorical variable\n",
    "for feature in categorical_features:\n",
    "    le = LabelEncoder()\n",
    "    X_train[feature]=  X_train[feature].astype('str')\n",
    "    #test_data[feature]=  test_data[feature].astype('str')\n",
    "    X_valid[feature]=  X_valid[feature].astype('str')\n",
    "    X_test[feature]=  X_test[feature].astype('str')\n",
    "    le.fit(X_train.loc[:, feature])\n",
    "    X_train.loc[:, feature] = le.transform(X_train.loc[:, feature])\n",
    "    X_valid.loc[:, feature] = le.transform(X_valid.loc[:, feature])\n",
    "    X_test.loc[:, feature] = le.transform(X_test.loc[:, feature])\n",
    "    label_dict[feature] = le\n",
    "\n",
    "picklesave(\"artifacts/labelEncoder.pickle\",label_dict)"
   ]
  },
  {
   "cell_type": "markdown",
   "id": "6743bd65",
   "metadata": {},
   "source": [
    "![alt text](images/MLflow_Model_experimentation.png \"Title\")\n",
    "\n",
    "**source: vivek kumar [YouTube]**"
   ]
  },
  {
   "cell_type": "markdown",
   "id": "fa4f10bc",
   "metadata": {},
   "source": [
    "### Model Training and Tracking using MLflow"
   ]
  },
  {
   "cell_type": "code",
   "execution_count": 68,
   "id": "7562e10f",
   "metadata": {},
   "outputs": [],
   "source": [
    "def model_training_tracking(params):\n",
    "    with mlflow.start_run(experiment_id=experiment_id, run_name='Lightgbm_model1') as run:\n",
    "        # Get run id \n",
    "        run_id = run.info.run_uuid\n",
    "\n",
    "        # Set the notes for the run\n",
    "        MlflowClient().set_tag(run_id,\n",
    "                               \"mlflow.note.content\",\n",
    "                               \"This is experiment for hyperparameter optimzation for lightgbm models for the Load Defaulter prediction\")\n",
    "\n",
    "        # Define customer tag\n",
    "        tags = {\"Application\": \"Loan Defaulter Monitoring\",\n",
    "                \"release.version\": \"1.0.0\"}\n",
    "\n",
    "        # Set Tag\n",
    "        mlflow.set_tags(tags)\n",
    "\n",
    "        # Log python environment details\n",
    "        mlflow.log_artifact('requirements.txt')\n",
    "        # Log selected feature and feature enginering data \n",
    "        mlflow.log_artifact('artifacts/selected_features.csv')      \n",
    "        mlflow.log_artifact('artifacts/FrequentLabels.pickle')      \n",
    "        mlflow.log_artifact('artifacts/mean_var_dict.pickle')      \n",
    "        mlflow.log_artifact('artifacts/emp_len_dict.pickle')       \n",
    "        mlflow.log_artifact(\"artifacts/labelEncoder.pickle\")\n",
    "\n",
    "        # logging params\n",
    "        mlflow.log_params(params)\n",
    "        auc_list = []\n",
    "        mlflow.lightgbm.autolog()\n",
    "        lgb_clf = LGBMClassifier(**params)\n",
    "        lgb_clf.fit(X_train, y_train, \n",
    "                    eval_set = [(X_train, y_train), (X_valid, y_valid)], \n",
    "                    early_stopping_rounds=100,\n",
    "                    verbose=20)\n",
    "        # Log model artifacts\n",
    "        mlflow.sklearn.log_model(lgb_clf, \"model\")\n",
    "        \n",
    "        # Perform model evaluation \n",
    "        lgb_valid_prediction = lgb_clf.predict_proba(X_valid)[:, 1]\n",
    "        fpr, tpr, thresholds = roc_curve(y_valid, lgb_valid_prediction)\n",
    "        roc_auc = auc(fpr, tpr) # compute area under the curve\n",
    "        print(\"=====================================\")\n",
    "        print(\"Validation AUC:{}\".format(roc_auc))\n",
    "        print(\"=====================================\")   \n",
    "\n",
    "        score_lgb_valid_prediction = lgb_clf.predict(X_valid)\n",
    "        score = f1_score(y_valid, score_lgb_valid_prediction, average='weighted')# compute f1 score\n",
    "        score = 100* score\n",
    "        print(\"=====================================\")\n",
    "        print(\"Validation f1 score:{}\".format(score))\n",
    "        print(\"=====================================\")  \n",
    "        \n",
    "        # log metrics\n",
    "        mlflow.log_metrics({\"Validation_AUC\": roc_auc,\"Validation_f1\": score})\n",
    "        \n",
    "        # Plot and save feature importance details\n",
    "        ax = plot_importance(lgb_clf, height=0.4)\n",
    "        filename = './images/lgb_validation_feature_importance.png'\n",
    "        plt.savefig(filename)\n",
    "        # log model artifacts\n",
    "        mlflow.log_artifact(filename)\n",
    "\n",
    "        ax = plot_metric(lgb_clf.evals_result_)\n",
    "        filename = './images/lgb_validation_metrics_comparision.png'\n",
    "        plt.savefig(filename)\n",
    "        # log model artifacts\n",
    "        mlflow.log_artifact(filename)\n",
    "\n",
    "        # Plot and save metrics details    \n",
    "        plot_confusion_matrix(lgb_clf, X_valid, y_valid, \n",
    "                              display_labels=['Placed', 'Not Placed'],\n",
    "                              cmap='magma')\n",
    "        plt.title('Confusion Matrix')\n",
    "        filename = './images/lgb_validation_confusion_matrix.png'\n",
    "        plt.savefig(filename)\n",
    "        # log model artifacts\n",
    "        mlflow.log_artifact(filename)\n",
    "\n",
    "        # Plot and save AUC details  \n",
    "        plot_roc_curve(lgb_clf, X_valid, y_valid, name='Validation')\n",
    "        plt.title('ROC AUC Curve')\n",
    "        filename = './images/lgb_validation_roc_curve.png'\n",
    "        plt.savefig(filename)\n",
    "        # log model artifacts\n",
    "        mlflow.log_artifact(filename)\n",
    "        return roc_auc"
   ]
  },
  {
   "cell_type": "code",
   "execution_count": 69,
   "id": "f7928a66",
   "metadata": {},
   "outputs": [],
   "source": [
    "def objective(trial):\n",
    "\n",
    "    param = {\n",
    "        \"objective\": \"binary\",\n",
    "        \"metric\": \"auc\",\n",
    "        \"learning_rate\": trial.suggest_float(\"learning_rate\", 1e-3, 1e-1, log=True),\n",
    "        \"colsample_bytree\": trial.suggest_float(\"colsample_bytree\", 0.2, 1.0),\n",
    "        \"subsample\": trial.suggest_float(\"subsample\", 0.4, 1.0),\n",
    "        \"random_state\": 42,\n",
    "        \"boosting_type\": \"gbdt\",\n",
    "        #\"max_depth\": 10\n",
    "    }\n",
    "    \n",
    "    score = model_training_tracking(param)\n",
    "    return score"
   ]
  },
  {
   "cell_type": "code",
   "execution_count": 70,
   "id": "3afd2e02",
   "metadata": {
    "scrolled": true
   },
   "outputs": [
    {
     "name": "stderr",
     "output_type": "stream",
     "text": [
      "\u001b[32m[I 2021-04-18 14:25:43,841]\u001b[0m A new study created in memory with name: no-name-85b0bee1-836e-4847-8de8-b270e7de7f3d\u001b[0m\n",
      "2021/04/18 14:25:44 WARNING mlflow.utils.autologging_utils: You are using an unsupported version of lightgbm. If you encounter errors during autologging, try upgrading / downgrading lightgbm to a supported version, or try upgrading MLflow.\n"
     ]
    },
    {
     "name": "stdout",
     "output_type": "stream",
     "text": [
      "Training until validation scores don't improve for 100 rounds\n",
      "[20]\ttraining's auc: 0.81228\tvalid_1's auc: 0.810512\n",
      "[40]\ttraining's auc: 0.810725\tvalid_1's auc: 0.809361\n",
      "[60]\ttraining's auc: 0.814203\tvalid_1's auc: 0.812824\n",
      "[80]\ttraining's auc: 0.817833\tvalid_1's auc: 0.816397\n",
      "[100]\ttraining's auc: 0.820986\tvalid_1's auc: 0.819753\n",
      "Did not meet early stopping. Best iteration is:\n",
      "[100]\ttraining's auc: 0.820986\tvalid_1's auc: 0.819753\n",
      "=====================================\n",
      "Validation AUC:0.8197533707276448\n",
      "=====================================\n",
      "=====================================\n",
      "Validation f1 score:66.23195524719897\n",
      "=====================================\n"
     ]
    },
    {
     "name": "stderr",
     "output_type": "stream",
     "text": [
      "\u001b[32m[I 2021-04-18 14:26:16,443]\u001b[0m Trial 0 finished with value: 0.8197533707276448 and parameters: {'learning_rate': 0.0020422511327989144, 'colsample_bytree': 0.7848430373096997, 'subsample': 0.410500457288687}. Best is trial 0 with value: 0.8197533707276448.\u001b[0m\n",
      "2021/04/18 14:26:17 WARNING mlflow.utils.autologging_utils: You are using an unsupported version of lightgbm. If you encounter errors during autologging, try upgrading / downgrading lightgbm to a supported version, or try upgrading MLflow.\n"
     ]
    },
    {
     "name": "stdout",
     "output_type": "stream",
     "text": [
      "Training until validation scores don't improve for 100 rounds\n",
      "[20]\ttraining's auc: 0.823706\tvalid_1's auc: 0.821301\n",
      "[40]\ttraining's auc: 0.829392\tvalid_1's auc: 0.827781\n",
      "[60]\ttraining's auc: 0.830937\tvalid_1's auc: 0.829384\n",
      "[80]\ttraining's auc: 0.836588\tvalid_1's auc: 0.835101\n",
      "[100]\ttraining's auc: 0.844873\tvalid_1's auc: 0.843553\n",
      "Did not meet early stopping. Best iteration is:\n",
      "[99]\ttraining's auc: 0.844974\tvalid_1's auc: 0.843671\n",
      "=====================================\n",
      "Validation AUC:0.8436710040011889\n",
      "=====================================\n",
      "=====================================\n",
      "Validation f1 score:78.70018350525483\n",
      "=====================================\n"
     ]
    },
    {
     "name": "stderr",
     "output_type": "stream",
     "text": [
      "\u001b[32m[I 2021-04-18 14:27:00,084]\u001b[0m Trial 1 finished with value: 0.8436710040011889 and parameters: {'learning_rate': 0.010839306644327647, 'colsample_bytree': 0.584899480775861, 'subsample': 0.511910344666861}. Best is trial 1 with value: 0.8436710040011889.\u001b[0m\n",
      "2021/04/18 14:27:00 WARNING mlflow.utils.autologging_utils: You are using an unsupported version of lightgbm. If you encounter errors during autologging, try upgrading / downgrading lightgbm to a supported version, or try upgrading MLflow.\n"
     ]
    },
    {
     "name": "stdout",
     "output_type": "stream",
     "text": [
      "Training until validation scores don't improve for 100 rounds\n",
      "[20]\ttraining's auc: 0.839889\tvalid_1's auc: 0.838474\n",
      "[40]\ttraining's auc: 0.844333\tvalid_1's auc: 0.842773\n",
      "[60]\ttraining's auc: 0.840935\tvalid_1's auc: 0.839152\n",
      "[80]\ttraining's auc: 0.84098\tvalid_1's auc: 0.839095\n",
      "[100]\ttraining's auc: 0.844037\tvalid_1's auc: 0.842058\n",
      "Did not meet early stopping. Best iteration is:\n",
      "[41]\ttraining's auc: 0.845636\tvalid_1's auc: 0.844097\n",
      "=====================================\n",
      "Validation AUC:0.8440968655380945\n",
      "=====================================\n",
      "=====================================\n",
      "Validation f1 score:68.04029794103043\n",
      "=====================================\n"
     ]
    },
    {
     "name": "stderr",
     "output_type": "stream",
     "text": [
      "\u001b[32m[I 2021-04-18 14:27:34,024]\u001b[0m Trial 2 finished with value: 0.8440968655380945 and parameters: {'learning_rate': 0.011430245506954158, 'colsample_bytree': 0.3405540850390676, 'subsample': 0.9931644372579348}. Best is trial 2 with value: 0.8440968655380945.\u001b[0m\n",
      "2021/04/18 14:27:35 WARNING mlflow.utils.autologging_utils: You are using an unsupported version of lightgbm. If you encounter errors during autologging, try upgrading / downgrading lightgbm to a supported version, or try upgrading MLflow.\n"
     ]
    },
    {
     "name": "stdout",
     "output_type": "stream",
     "text": [
      "Training until validation scores don't improve for 100 rounds\n",
      "[20]\ttraining's auc: 0.83067\tvalid_1's auc: 0.828688\n",
      "[40]\ttraining's auc: 0.839293\tvalid_1's auc: 0.838043\n",
      "[60]\ttraining's auc: 0.846266\tvalid_1's auc: 0.844821\n",
      "[80]\ttraining's auc: 0.85343\tvalid_1's auc: 0.851889\n",
      "[100]\ttraining's auc: 0.861798\tvalid_1's auc: 0.860122\n",
      "Did not meet early stopping. Best iteration is:\n",
      "[100]\ttraining's auc: 0.861798\tvalid_1's auc: 0.860122\n",
      "=====================================\n",
      "Validation AUC:0.8601218281666481\n",
      "=====================================\n",
      "=====================================\n",
      "Validation f1 score:81.19379135626819\n",
      "=====================================\n"
     ]
    },
    {
     "name": "stderr",
     "output_type": "stream",
     "text": [
      "\u001b[32m[I 2021-04-18 14:28:25,423]\u001b[0m Trial 3 finished with value: 0.8601218281666481 and parameters: {'learning_rate': 0.022658423013662367, 'colsample_bytree': 0.785767690191687, 'subsample': 0.4550845652256418}. Best is trial 3 with value: 0.8601218281666481.\u001b[0m\n",
      "2021/04/18 14:28:26 WARNING mlflow.utils.autologging_utils: You are using an unsupported version of lightgbm. If you encounter errors during autologging, try upgrading / downgrading lightgbm to a supported version, or try upgrading MLflow.\n"
     ]
    },
    {
     "name": "stdout",
     "output_type": "stream",
     "text": [
      "Training until validation scores don't improve for 100 rounds\n",
      "[20]\ttraining's auc: 0.829829\tvalid_1's auc: 0.827645\n",
      "[40]\ttraining's auc: 0.837867\tvalid_1's auc: 0.836245\n",
      "[60]\ttraining's auc: 0.831597\tvalid_1's auc: 0.830185\n",
      "[80]\ttraining's auc: 0.830869\tvalid_1's auc: 0.829228\n",
      "[100]\ttraining's auc: 0.830992\tvalid_1's auc: 0.829319\n",
      "Did not meet early stopping. Best iteration is:\n",
      "[41]\ttraining's auc: 0.838873\tvalid_1's auc: 0.837261\n",
      "=====================================\n",
      "Validation AUC:0.8372614964556686\n",
      "=====================================\n",
      "=====================================\n",
      "Validation f1 score:66.23195524719897\n",
      "=====================================\n"
     ]
    },
    {
     "name": "stderr",
     "output_type": "stream",
     "text": [
      "\u001b[32m[I 2021-04-18 14:28:58,006]\u001b[0m Trial 4 finished with value: 0.8372614964556686 and parameters: {'learning_rate': 0.0027201322481540382, 'colsample_bytree': 0.45151164246621617, 'subsample': 0.41718042496220165}. Best is trial 3 with value: 0.8601218281666481.\u001b[0m\n",
      "2021/04/18 14:28:59 WARNING mlflow.utils.autologging_utils: You are using an unsupported version of lightgbm. If you encounter errors during autologging, try upgrading / downgrading lightgbm to a supported version, or try upgrading MLflow.\n"
     ]
    },
    {
     "name": "stdout",
     "output_type": "stream",
     "text": [
      "Training until validation scores don't improve for 100 rounds\n",
      "[20]\ttraining's auc: 0.834594\tvalid_1's auc: 0.832514\n",
      "[40]\ttraining's auc: 0.843649\tvalid_1's auc: 0.842034\n",
      "[60]\ttraining's auc: 0.842054\tvalid_1's auc: 0.840392\n",
      "[80]\ttraining's auc: 0.842956\tvalid_1's auc: 0.84104\n",
      "[100]\ttraining's auc: 0.847916\tvalid_1's auc: 0.845932\n",
      "Did not meet early stopping. Best iteration is:\n",
      "[99]\ttraining's auc: 0.847958\tvalid_1's auc: 0.845965\n",
      "=====================================\n",
      "Validation AUC:0.8459646788250761\n",
      "=====================================\n",
      "=====================================\n",
      "Validation f1 score:78.79438057143179\n",
      "=====================================\n"
     ]
    },
    {
     "name": "stderr",
     "output_type": "stream",
     "text": [
      "\u001b[32m[I 2021-04-18 14:29:35,577]\u001b[0m Trial 5 finished with value: 0.8459646788250761 and parameters: {'learning_rate': 0.013837853400512318, 'colsample_bytree': 0.48061575972194615, 'subsample': 0.4686765073765141}. Best is trial 3 with value: 0.8601218281666481.\u001b[0m\n",
      "2021/04/18 14:29:36 WARNING mlflow.utils.autologging_utils: You are using an unsupported version of lightgbm. If you encounter errors during autologging, try upgrading / downgrading lightgbm to a supported version, or try upgrading MLflow.\n"
     ]
    },
    {
     "name": "stdout",
     "output_type": "stream",
     "text": [
      "Training until validation scores don't improve for 100 rounds\n",
      "[20]\ttraining's auc: 0.821517\tvalid_1's auc: 0.81897\n",
      "[40]\ttraining's auc: 0.825002\tvalid_1's auc: 0.823631\n",
      "[60]\ttraining's auc: 0.824351\tvalid_1's auc: 0.82284\n",
      "[80]\ttraining's auc: 0.827023\tvalid_1's auc: 0.825575\n",
      "[100]\ttraining's auc: 0.831271\tvalid_1's auc: 0.829875\n",
      "Did not meet early stopping. Best iteration is:\n",
      "[99]\ttraining's auc: 0.831426\tvalid_1's auc: 0.830056\n",
      "=====================================\n",
      "Validation AUC:0.8300562279588453\n",
      "=====================================\n",
      "=====================================\n",
      "Validation f1 score:66.23195524719897\n",
      "=====================================\n"
     ]
    },
    {
     "name": "stderr",
     "output_type": "stream",
     "text": [
      "\u001b[32m[I 2021-04-18 14:30:13,450]\u001b[0m Trial 6 finished with value: 0.8300562279588453 and parameters: {'learning_rate': 0.004051758441224662, 'colsample_bytree': 0.5858246418623649, 'subsample': 0.8114607018680617}. Best is trial 3 with value: 0.8601218281666481.\u001b[0m\n",
      "2021/04/18 14:30:15 WARNING mlflow.utils.autologging_utils: You are using an unsupported version of lightgbm. If you encounter errors during autologging, try upgrading / downgrading lightgbm to a supported version, or try upgrading MLflow.\n"
     ]
    },
    {
     "name": "stdout",
     "output_type": "stream",
     "text": [
      "Training until validation scores don't improve for 100 rounds\n",
      "[20]\ttraining's auc: 0.818744\tvalid_1's auc: 0.817049\n",
      "[40]\ttraining's auc: 0.82412\tvalid_1's auc: 0.823019\n",
      "[60]\ttraining's auc: 0.824441\tvalid_1's auc: 0.823229\n",
      "[80]\ttraining's auc: 0.83026\tvalid_1's auc: 0.829165\n",
      "[100]\ttraining's auc: 0.835013\tvalid_1's auc: 0.834068\n",
      "Did not meet early stopping. Best iteration is:\n",
      "[100]\ttraining's auc: 0.835013\tvalid_1's auc: 0.834068\n",
      "=====================================\n",
      "Validation AUC:0.8340680083507753\n",
      "=====================================\n",
      "=====================================\n",
      "Validation f1 score:76.785504037567\n",
      "=====================================\n"
     ]
    },
    {
     "name": "stderr",
     "output_type": "stream",
     "text": [
      "\u001b[32m[I 2021-04-18 14:30:44,799]\u001b[0m Trial 7 finished with value: 0.8340680083507753 and parameters: {'learning_rate': 0.0055961043575050474, 'colsample_bytree': 0.7297255490670804, 'subsample': 0.8398560917771687}. Best is trial 3 with value: 0.8601218281666481.\u001b[0m\n",
      "2021/04/18 14:30:46 WARNING mlflow.utils.autologging_utils: You are using an unsupported version of lightgbm. If you encounter errors during autologging, try upgrading / downgrading lightgbm to a supported version, or try upgrading MLflow.\n"
     ]
    },
    {
     "name": "stdout",
     "output_type": "stream",
     "text": [
      "Training until validation scores don't improve for 100 rounds\n",
      "[20]\ttraining's auc: 0.803456\tvalid_1's auc: 0.801909\n",
      "[40]\ttraining's auc: 0.810095\tvalid_1's auc: 0.808727\n",
      "[60]\ttraining's auc: 0.815776\tvalid_1's auc: 0.814585\n",
      "[80]\ttraining's auc: 0.822003\tvalid_1's auc: 0.820998\n",
      "[100]\ttraining's auc: 0.824897\tvalid_1's auc: 0.82411\n",
      "Did not meet early stopping. Best iteration is:\n",
      "[100]\ttraining's auc: 0.824897\tvalid_1's auc: 0.82411\n",
      "=====================================\n",
      "Validation AUC:0.8241098570732841\n",
      "=====================================\n",
      "=====================================\n",
      "Validation f1 score:66.23195524719897\n",
      "=====================================\n"
     ]
    },
    {
     "name": "stderr",
     "output_type": "stream",
     "text": [
      "\u001b[32m[I 2021-04-18 14:31:13,120]\u001b[0m Trial 8 finished with value: 0.8241098570732841 and parameters: {'learning_rate': 0.004450339885564292, 'colsample_bytree': 0.85072415435969, 'subsample': 0.9075906367278835}. Best is trial 3 with value: 0.8601218281666481.\u001b[0m\n",
      "2021/04/18 14:31:15 WARNING mlflow.utils.autologging_utils: You are using an unsupported version of lightgbm. If you encounter errors during autologging, try upgrading / downgrading lightgbm to a supported version, or try upgrading MLflow.\n"
     ]
    },
    {
     "name": "stdout",
     "output_type": "stream",
     "text": [
      "Training until validation scores don't improve for 100 rounds\n",
      "[20]\ttraining's auc: 0.838555\tvalid_1's auc: 0.837638\n",
      "[40]\ttraining's auc: 0.861326\tvalid_1's auc: 0.859773\n",
      "[60]\ttraining's auc: 0.881958\tvalid_1's auc: 0.880333\n",
      "[80]\ttraining's auc: 0.895033\tvalid_1's auc: 0.893473\n",
      "[100]\ttraining's auc: 0.9019\tvalid_1's auc: 0.89989\n",
      "Did not meet early stopping. Best iteration is:\n",
      "[100]\ttraining's auc: 0.9019\tvalid_1's auc: 0.89989\n",
      "=====================================\n",
      "Validation AUC:0.8998897442850574\n",
      "=====================================\n",
      "=====================================\n",
      "Validation f1 score:85.89366078549551\n",
      "=====================================\n"
     ]
    },
    {
     "name": "stderr",
     "output_type": "stream",
     "text": [
      "\u001b[32m[I 2021-04-18 14:31:43,848]\u001b[0m Trial 9 finished with value: 0.8998897442850574 and parameters: {'learning_rate': 0.05464328975812618, 'colsample_bytree': 0.9372422486848113, 'subsample': 0.6833068503134679}. Best is trial 9 with value: 0.8998897442850574.\u001b[0m\n",
      "2021/04/18 14:31:46 WARNING mlflow.utils.autologging_utils: You are using an unsupported version of lightgbm. If you encounter errors during autologging, try upgrading / downgrading lightgbm to a supported version, or try upgrading MLflow.\n"
     ]
    },
    {
     "name": "stdout",
     "output_type": "stream",
     "text": [
      "Training until validation scores don't improve for 100 rounds\n",
      "[20]\ttraining's auc: 0.843955\tvalid_1's auc: 0.842763\n",
      "[40]\ttraining's auc: 0.882624\tvalid_1's auc: 0.881251\n",
      "[60]\ttraining's auc: 0.898669\tvalid_1's auc: 0.897053\n",
      "[80]\ttraining's auc: 0.907026\tvalid_1's auc: 0.904693\n",
      "[100]\ttraining's auc: 0.914016\tvalid_1's auc: 0.910909\n",
      "Did not meet early stopping. Best iteration is:\n",
      "[100]\ttraining's auc: 0.914016\tvalid_1's auc: 0.910909\n",
      "=====================================\n",
      "Validation AUC:0.9109090511340305\n",
      "=====================================\n",
      "=====================================\n",
      "Validation f1 score:87.19214208168086\n",
      "=====================================\n"
     ]
    },
    {
     "name": "stderr",
     "output_type": "stream",
     "text": [
      "\u001b[32m[I 2021-04-18 14:32:17,117]\u001b[0m Trial 10 finished with value: 0.9109090511340305 and parameters: {'learning_rate': 0.08238742883412471, 'colsample_bytree': 0.9836040873255602, 'subsample': 0.6295705153244137}. Best is trial 10 with value: 0.9109090511340305.\u001b[0m\n",
      "2021/04/18 14:32:19 WARNING mlflow.utils.autologging_utils: You are using an unsupported version of lightgbm. If you encounter errors during autologging, try upgrading / downgrading lightgbm to a supported version, or try upgrading MLflow.\n"
     ]
    },
    {
     "name": "stdout",
     "output_type": "stream",
     "text": [
      "Training until validation scores don't improve for 100 rounds\n",
      "[20]\ttraining's auc: 0.844429\tvalid_1's auc: 0.843621\n",
      "[40]\ttraining's auc: 0.877121\tvalid_1's auc: 0.876149\n",
      "[60]\ttraining's auc: 0.895817\tvalid_1's auc: 0.89461\n",
      "[80]\ttraining's auc: 0.904666\tvalid_1's auc: 0.902647\n",
      "[100]\ttraining's auc: 0.912134\tvalid_1's auc: 0.909442\n",
      "Did not meet early stopping. Best iteration is:\n",
      "[100]\ttraining's auc: 0.912134\tvalid_1's auc: 0.909442\n",
      "=====================================\n",
      "Validation AUC:0.9094421246323612\n",
      "=====================================\n",
      "=====================================\n",
      "Validation f1 score:86.93227909585397\n",
      "=====================================\n"
     ]
    },
    {
     "name": "stderr",
     "output_type": "stream",
     "text": [
      "\u001b[32m[I 2021-04-18 14:32:46,945]\u001b[0m Trial 11 finished with value: 0.9094421246323612 and parameters: {'learning_rate': 0.07711467232260501, 'colsample_bytree': 0.9932107983185507, 'subsample': 0.6229008853782586}. Best is trial 10 with value: 0.9109090511340305.\u001b[0m\n",
      "2021/04/18 14:32:48 WARNING mlflow.utils.autologging_utils: You are using an unsupported version of lightgbm. If you encounter errors during autologging, try upgrading / downgrading lightgbm to a supported version, or try upgrading MLflow.\n"
     ]
    },
    {
     "name": "stdout",
     "output_type": "stream",
     "text": [
      "Training until validation scores don't improve for 100 rounds\n",
      "[20]\ttraining's auc: 0.850197\tvalid_1's auc: 0.849196\n",
      "[40]\ttraining's auc: 0.88508\tvalid_1's auc: 0.883665\n",
      "[60]\ttraining's auc: 0.900381\tvalid_1's auc: 0.898486\n",
      "[80]\ttraining's auc: 0.910614\tvalid_1's auc: 0.90798\n",
      "[100]\ttraining's auc: 0.917541\tvalid_1's auc: 0.914046\n",
      "Did not meet early stopping. Best iteration is:\n",
      "[100]\ttraining's auc: 0.917541\tvalid_1's auc: 0.914046\n",
      "=====================================\n",
      "Validation AUC:0.9140463465852074\n",
      "=====================================\n",
      "=====================================\n",
      "Validation f1 score:87.65106147541059\n",
      "=====================================\n"
     ]
    },
    {
     "name": "stderr",
     "output_type": "stream",
     "text": [
      "\u001b[32m[I 2021-04-18 14:33:15,042]\u001b[0m Trial 12 finished with value: 0.9140463465852074 and parameters: {'learning_rate': 0.08966994027538293, 'colsample_bytree': 0.9796143618325008, 'subsample': 0.6126984124726019}. Best is trial 12 with value: 0.9140463465852074.\u001b[0m\n",
      "2021/04/18 14:33:16 WARNING mlflow.utils.autologging_utils: You are using an unsupported version of lightgbm. If you encounter errors during autologging, try upgrading / downgrading lightgbm to a supported version, or try upgrading MLflow.\n"
     ]
    },
    {
     "name": "stdout",
     "output_type": "stream",
     "text": [
      "Training until validation scores don't improve for 100 rounds\n",
      "[20]\ttraining's auc: 0.829352\tvalid_1's auc: 0.828631\n",
      "[40]\ttraining's auc: 0.847458\tvalid_1's auc: 0.846181\n",
      "[60]\ttraining's auc: 0.866071\tvalid_1's auc: 0.864591\n",
      "[80]\ttraining's auc: 0.881153\tvalid_1's auc: 0.879608\n",
      "[100]\ttraining's auc: 0.891194\tvalid_1's auc: 0.889625\n",
      "Did not meet early stopping. Best iteration is:\n",
      "[100]\ttraining's auc: 0.891194\tvalid_1's auc: 0.889625\n",
      "=====================================\n",
      "Validation AUC:0.8896254249935519\n",
      "=====================================\n",
      "=====================================\n",
      "Validation f1 score:84.82292082268773\n",
      "=====================================\n"
     ]
    },
    {
     "name": "stderr",
     "output_type": "stream",
     "text": [
      "\u001b[32m[I 2021-04-18 14:33:45,442]\u001b[0m Trial 13 finished with value: 0.8896254249935519 and parameters: {'learning_rate': 0.04101702306505094, 'colsample_bytree': 0.9979031198940949, 'subsample': 0.5827438819907678}. Best is trial 12 with value: 0.9140463465852074.\u001b[0m\n",
      "2021/04/18 14:33:47 WARNING mlflow.utils.autologging_utils: You are using an unsupported version of lightgbm. If you encounter errors during autologging, try upgrading / downgrading lightgbm to a supported version, or try upgrading MLflow.\n"
     ]
    },
    {
     "name": "stdout",
     "output_type": "stream",
     "text": [
      "Training until validation scores don't improve for 100 rounds\n",
      "[20]\ttraining's auc: 0.85291\tvalid_1's auc: 0.851725\n",
      "[40]\ttraining's auc: 0.883252\tvalid_1's auc: 0.881949\n",
      "[60]\ttraining's auc: 0.899714\tvalid_1's auc: 0.898053\n",
      "[80]\ttraining's auc: 0.9097\tvalid_1's auc: 0.907126\n",
      "[100]\ttraining's auc: 0.917344\tvalid_1's auc: 0.914511\n",
      "Did not meet early stopping. Best iteration is:\n",
      "[100]\ttraining's auc: 0.917344\tvalid_1's auc: 0.914511\n",
      "=====================================\n",
      "Validation AUC:0.9145109201692941\n",
      "=====================================\n",
      "=====================================\n",
      "Validation f1 score:87.49614094039487\n",
      "=====================================\n"
     ]
    },
    {
     "name": "stderr",
     "output_type": "stream",
     "text": [
      "\u001b[32m[I 2021-04-18 14:34:17,408]\u001b[0m Trial 14 finished with value: 0.9145109201692941 and parameters: {'learning_rate': 0.09007799284234508, 'colsample_bytree': 0.8988050942982481, 'subsample': 0.7162703009298693}. Best is trial 14 with value: 0.9145109201692941.\u001b[0m\n",
      "2021/04/18 14:34:18 WARNING mlflow.utils.autologging_utils: You are using an unsupported version of lightgbm. If you encounter errors during autologging, try upgrading / downgrading lightgbm to a supported version, or try upgrading MLflow.\n"
     ]
    },
    {
     "name": "stdout",
     "output_type": "stream",
     "text": [
      "Training until validation scores don't improve for 100 rounds\n",
      "[20]\ttraining's auc: 0.827544\tvalid_1's auc: 0.826681\n",
      "[40]\ttraining's auc: 0.841097\tvalid_1's auc: 0.840121\n",
      "[60]\ttraining's auc: 0.85369\tvalid_1's auc: 0.852429\n",
      "[80]\ttraining's auc: 0.863518\tvalid_1's auc: 0.86197\n",
      "[100]\ttraining's auc: 0.87491\tvalid_1's auc: 0.873379\n",
      "Did not meet early stopping. Best iteration is:\n",
      "[100]\ttraining's auc: 0.87491\tvalid_1's auc: 0.873379\n",
      "=====================================\n",
      "Validation AUC:0.8733789971055222\n",
      "=====================================\n",
      "=====================================\n",
      "Validation f1 score:83.13491240689078\n",
      "=====================================\n"
     ]
    },
    {
     "name": "stderr",
     "output_type": "stream",
     "text": [
      "\u001b[32m[I 2021-04-18 14:34:51,865]\u001b[0m Trial 15 finished with value: 0.8733789971055222 and parameters: {'learning_rate': 0.02968863415646677, 'colsample_bytree': 0.8823723255293743, 'subsample': 0.7534811998784636}. Best is trial 14 with value: 0.9145109201692941.\u001b[0m\n",
      "2021/04/18 14:34:54 WARNING mlflow.utils.autologging_utils: You are using an unsupported version of lightgbm. If you encounter errors during autologging, try upgrading / downgrading lightgbm to a supported version, or try upgrading MLflow.\n"
     ]
    },
    {
     "name": "stdout",
     "output_type": "stream",
     "text": [
      "Training until validation scores don't improve for 100 rounds\n",
      "[20]\ttraining's auc: 0.856943\tvalid_1's auc: 0.855448\n",
      "[40]\ttraining's auc: 0.885251\tvalid_1's auc: 0.883617\n",
      "[60]\ttraining's auc: 0.899461\tvalid_1's auc: 0.897584\n",
      "[80]\ttraining's auc: 0.909808\tvalid_1's auc: 0.907082\n",
      "[100]\ttraining's auc: 0.917133\tvalid_1's auc: 0.914069\n",
      "Did not meet early stopping. Best iteration is:\n",
      "[100]\ttraining's auc: 0.917133\tvalid_1's auc: 0.914069\n",
      "=====================================\n",
      "Validation AUC:0.9140690762100223\n",
      "=====================================\n",
      "=====================================\n",
      "Validation f1 score:87.15287837724112\n",
      "=====================================\n"
     ]
    },
    {
     "name": "stderr",
     "output_type": "stream",
     "text": [
      "\u001b[32m[I 2021-04-18 14:35:24,480]\u001b[0m Trial 16 finished with value: 0.9140690762100223 and parameters: {'learning_rate': 0.08624471219693579, 'colsample_bytree': 0.679608155804861, 'subsample': 0.7206145515603901}. Best is trial 14 with value: 0.9145109201692941.\u001b[0m\n",
      "2021/04/18 14:35:26 WARNING mlflow.utils.autologging_utils: You are using an unsupported version of lightgbm. If you encounter errors during autologging, try upgrading / downgrading lightgbm to a supported version, or try upgrading MLflow.\n"
     ]
    },
    {
     "name": "stdout",
     "output_type": "stream",
     "text": [
      "Training until validation scores don't improve for 100 rounds\n",
      "[20]\ttraining's auc: 0.834834\tvalid_1's auc: 0.833076\n",
      "[40]\ttraining's auc: 0.843144\tvalid_1's auc: 0.841884\n",
      "[60]\ttraining's auc: 0.849946\tvalid_1's auc: 0.848763\n",
      "[80]\ttraining's auc: 0.85605\tvalid_1's auc: 0.85451\n",
      "[100]\ttraining's auc: 0.862778\tvalid_1's auc: 0.861226\n",
      "Did not meet early stopping. Best iteration is:\n",
      "[99]\ttraining's auc: 0.862784\tvalid_1's auc: 0.861227\n",
      "=====================================\n",
      "Validation AUC:0.8612267825182177\n",
      "=====================================\n",
      "=====================================\n",
      "Validation f1 score:80.84866330519687\n",
      "=====================================\n"
     ]
    },
    {
     "name": "stderr",
     "output_type": "stream",
     "text": [
      "\u001b[32m[I 2021-04-18 14:36:11,922]\u001b[0m Trial 17 finished with value: 0.8612267825182177 and parameters: {'learning_rate': 0.02181692490669437, 'colsample_bytree': 0.6991335285988934, 'subsample': 0.7308787091959236}. Best is trial 14 with value: 0.9145109201692941.\u001b[0m\n",
      "2021/04/18 14:36:13 WARNING mlflow.utils.autologging_utils: You are using an unsupported version of lightgbm. If you encounter errors during autologging, try upgrading / downgrading lightgbm to a supported version, or try upgrading MLflow.\n"
     ]
    },
    {
     "name": "stdout",
     "output_type": "stream",
     "text": [
      "Training until validation scores don't improve for 100 rounds\n",
      "[20]\ttraining's auc: 0.823003\tvalid_1's auc: 0.821064\n",
      "[40]\ttraining's auc: 0.823755\tvalid_1's auc: 0.822504\n",
      "[60]\ttraining's auc: 0.820469\tvalid_1's auc: 0.819205\n",
      "[80]\ttraining's auc: 0.823254\tvalid_1's auc: 0.821984\n",
      "[100]\ttraining's auc: 0.824945\tvalid_1's auc: 0.823808\n",
      "Did not meet early stopping. Best iteration is:\n",
      "[23]\ttraining's auc: 0.828319\tvalid_1's auc: 0.826827\n",
      "=====================================\n",
      "Validation AUC:0.826827263304218\n",
      "=====================================\n",
      "=====================================\n",
      "Validation f1 score:66.23195524719897\n",
      "=====================================\n"
     ]
    },
    {
     "name": "stderr",
     "output_type": "stream",
     "text": [
      "\u001b[32m[I 2021-04-18 14:36:43,332]\u001b[0m Trial 18 finished with value: 0.826827263304218 and parameters: {'learning_rate': 0.0010050871156577655, 'colsample_bytree': 0.6434399507056876, 'subsample': 0.8052702352544749}. Best is trial 14 with value: 0.9145109201692941.\u001b[0m\n",
      "2021/04/18 14:36:44 WARNING mlflow.utils.autologging_utils: You are using an unsupported version of lightgbm. If you encounter errors during autologging, try upgrading / downgrading lightgbm to a supported version, or try upgrading MLflow.\n"
     ]
    },
    {
     "name": "stdout",
     "output_type": "stream",
     "text": [
      "Training until validation scores don't improve for 100 rounds\n",
      "[20]\ttraining's auc: 0.841859\tvalid_1's auc: 0.840099\n",
      "[40]\ttraining's auc: 0.863432\tvalid_1's auc: 0.861502\n",
      "[60]\ttraining's auc: 0.872091\tvalid_1's auc: 0.869869\n",
      "[80]\ttraining's auc: 0.882032\tvalid_1's auc: 0.879235\n",
      "[100]\ttraining's auc: 0.89363\tvalid_1's auc: 0.890945\n",
      "Did not meet early stopping. Best iteration is:\n",
      "[100]\ttraining's auc: 0.89363\tvalid_1's auc: 0.890945\n",
      "=====================================\n",
      "Validation AUC:0.8909452226090759\n",
      "=====================================\n",
      "=====================================\n",
      "Validation f1 score:83.97904758688418\n",
      "=====================================\n"
     ]
    },
    {
     "name": "stderr",
     "output_type": "stream",
     "text": [
      "\u001b[32m[I 2021-04-18 14:37:15,503]\u001b[0m Trial 19 finished with value: 0.8909452226090759 and parameters: {'learning_rate': 0.04835474724925842, 'colsample_bytree': 0.48579442759410346, 'subsample': 0.9055597511476832}. Best is trial 14 with value: 0.9145109201692941.\u001b[0m\n",
      "2021/04/18 14:37:16 WARNING mlflow.utils.autologging_utils: You are using an unsupported version of lightgbm. If you encounter errors during autologging, try upgrading / downgrading lightgbm to a supported version, or try upgrading MLflow.\n"
     ]
    },
    {
     "name": "stdout",
     "output_type": "stream",
     "text": [
      "Training until validation scores don't improve for 100 rounds\n",
      "[20]\ttraining's auc: 0.826001\tvalid_1's auc: 0.823456\n",
      "[40]\ttraining's auc: 0.843601\tvalid_1's auc: 0.840548\n",
      "[60]\ttraining's auc: 0.864669\tvalid_1's auc: 0.861394\n",
      "[80]\ttraining's auc: 0.880627\tvalid_1's auc: 0.877294\n",
      "[100]\ttraining's auc: 0.887491\tvalid_1's auc: 0.883513\n",
      "Did not meet early stopping. Best iteration is:\n",
      "[100]\ttraining's auc: 0.887491\tvalid_1's auc: 0.883513\n",
      "=====================================\n",
      "Validation AUC:0.8835126105756509\n",
      "=====================================\n",
      "=====================================\n",
      "Validation f1 score:83.38742358254197\n",
      "=====================================\n"
     ]
    },
    {
     "name": "stderr",
     "output_type": "stream",
     "text": [
      "\u001b[32m[I 2021-04-18 14:37:55,534]\u001b[0m Trial 20 finished with value: 0.8835126105756509 and parameters: {'learning_rate': 0.09872087091061325, 'colsample_bytree': 0.21847999618801583, 'subsample': 0.6911663593084817}. Best is trial 14 with value: 0.9145109201692941.\u001b[0m\n",
      "2021/04/18 14:37:58 WARNING mlflow.utils.autologging_utils: You are using an unsupported version of lightgbm. If you encounter errors during autologging, try upgrading / downgrading lightgbm to a supported version, or try upgrading MLflow.\n"
     ]
    },
    {
     "name": "stdout",
     "output_type": "stream",
     "text": [
      "Training until validation scores don't improve for 100 rounds\n",
      "[20]\ttraining's auc: 0.855054\tvalid_1's auc: 0.853768\n",
      "[40]\ttraining's auc: 0.886889\tvalid_1's auc: 0.885543\n",
      "[60]\ttraining's auc: 0.901492\tvalid_1's auc: 0.899184\n",
      "[80]\ttraining's auc: 0.910247\tvalid_1's auc: 0.907584\n",
      "[100]\ttraining's auc: 0.917148\tvalid_1's auc: 0.913915\n",
      "Did not meet early stopping. Best iteration is:\n",
      "[100]\ttraining's auc: 0.917148\tvalid_1's auc: 0.913915\n",
      "=====================================\n",
      "Validation AUC:0.913914604179447\n",
      "=====================================\n",
      "=====================================\n",
      "Validation f1 score:87.59614199454975\n",
      "=====================================\n"
     ]
    },
    {
     "name": "stderr",
     "output_type": "stream",
     "text": [
      "\u001b[32m[I 2021-04-18 14:39:01,688]\u001b[0m Trial 21 finished with value: 0.913914604179447 and parameters: {'learning_rate': 0.08914901833251698, 'colsample_bytree': 0.8917995387023382, 'subsample': 0.5409769925146161}. Best is trial 14 with value: 0.9145109201692941.\u001b[0m\n",
      "2021/04/18 14:39:04 WARNING mlflow.utils.autologging_utils: You are using an unsupported version of lightgbm. If you encounter errors during autologging, try upgrading / downgrading lightgbm to a supported version, or try upgrading MLflow.\n"
     ]
    },
    {
     "name": "stdout",
     "output_type": "stream",
     "text": [
      "Training until validation scores don't improve for 100 rounds\n",
      "[20]\ttraining's auc: 0.846059\tvalid_1's auc: 0.845443\n",
      "[40]\ttraining's auc: 0.863745\tvalid_1's auc: 0.862248\n",
      "[60]\ttraining's auc: 0.886145\tvalid_1's auc: 0.884332\n",
      "[80]\ttraining's auc: 0.898842\tvalid_1's auc: 0.896975\n",
      "[100]\ttraining's auc: 0.906429\tvalid_1's auc: 0.904197\n",
      "Did not meet early stopping. Best iteration is:\n",
      "[100]\ttraining's auc: 0.906429\tvalid_1's auc: 0.904197\n",
      "=====================================\n",
      "Validation AUC:0.9041974601146214\n",
      "=====================================\n",
      "=====================================\n",
      "Validation f1 score:86.24631280480659\n",
      "=====================================\n"
     ]
    },
    {
     "name": "stderr",
     "output_type": "stream",
     "text": [
      "\u001b[32m[I 2021-04-18 14:39:48,839]\u001b[0m Trial 22 finished with value: 0.9041974601146214 and parameters: {'learning_rate': 0.06050795486299561, 'colsample_bytree': 0.8261195425434218, 'subsample': 0.6391973767498468}. Best is trial 14 with value: 0.9145109201692941.\u001b[0m\n",
      "2021/04/18 14:39:50 WARNING mlflow.utils.autologging_utils: You are using an unsupported version of lightgbm. If you encounter errors during autologging, try upgrading / downgrading lightgbm to a supported version, or try upgrading MLflow.\n"
     ]
    },
    {
     "name": "stdout",
     "output_type": "stream",
     "text": [
      "Training until validation scores don't improve for 100 rounds\n",
      "[20]\ttraining's auc: 0.859576\tvalid_1's auc: 0.858419\n",
      "[40]\ttraining's auc: 0.889776\tvalid_1's auc: 0.888189\n",
      "[60]\ttraining's auc: 0.904298\tvalid_1's auc: 0.901876\n",
      "[80]\ttraining's auc: 0.914034\tvalid_1's auc: 0.910679\n",
      "[100]\ttraining's auc: 0.920144\tvalid_1's auc: 0.916437\n",
      "Did not meet early stopping. Best iteration is:\n",
      "[100]\ttraining's auc: 0.920144\tvalid_1's auc: 0.916437\n",
      "=====================================\n",
      "Validation AUC:0.9164365758321581\n",
      "=====================================\n",
      "=====================================\n",
      "Validation f1 score:87.95398589828419\n",
      "=====================================\n"
     ]
    },
    {
     "name": "stderr",
     "output_type": "stream",
     "text": [
      "\u001b[32m[I 2021-04-18 14:40:23,980]\u001b[0m Trial 23 finished with value: 0.9164365758321581 and parameters: {'learning_rate': 0.09932232379257026, 'colsample_bytree': 0.9242832082547825, 'subsample': 0.7667178763425719}. Best is trial 23 with value: 0.9164365758321581.\u001b[0m\n",
      "2021/04/18 14:40:25 WARNING mlflow.utils.autologging_utils: You are using an unsupported version of lightgbm. If you encounter errors during autologging, try upgrading / downgrading lightgbm to a supported version, or try upgrading MLflow.\n"
     ]
    },
    {
     "name": "stdout",
     "output_type": "stream",
     "text": [
      "Training until validation scores don't improve for 100 rounds\n",
      "[20]\ttraining's auc: 0.839922\tvalid_1's auc: 0.838332\n",
      "[40]\ttraining's auc: 0.851944\tvalid_1's auc: 0.850638\n",
      "[60]\ttraining's auc: 0.862549\tvalid_1's auc: 0.860698\n",
      "[80]\ttraining's auc: 0.876543\tvalid_1's auc: 0.874654\n",
      "[100]\ttraining's auc: 0.886998\tvalid_1's auc: 0.885148\n",
      "Did not meet early stopping. Best iteration is:\n",
      "[100]\ttraining's auc: 0.886998\tvalid_1's auc: 0.885148\n",
      "=====================================\n",
      "Validation AUC:0.885148249380665\n",
      "=====================================\n",
      "=====================================\n",
      "Validation f1 score:83.8084668118542\n",
      "=====================================\n"
     ]
    },
    {
     "name": "stderr",
     "output_type": "stream",
     "text": [
      "\u001b[32m[I 2021-04-18 14:41:10,531]\u001b[0m Trial 24 finished with value: 0.885148249380665 and parameters: {'learning_rate': 0.03735019030806094, 'colsample_bytree': 0.7272975784022456, 'subsample': 0.7643826172710312}. Best is trial 23 with value: 0.9164365758321581.\u001b[0m\n",
      "2021/04/18 14:41:12 WARNING mlflow.utils.autologging_utils: You are using an unsupported version of lightgbm. If you encounter errors during autologging, try upgrading / downgrading lightgbm to a supported version, or try upgrading MLflow.\n"
     ]
    },
    {
     "name": "stdout",
     "output_type": "stream",
     "text": [
      "Training until validation scores don't improve for 100 rounds\n",
      "[20]\ttraining's auc: 0.84186\tvalid_1's auc: 0.841151\n",
      "[40]\ttraining's auc: 0.868666\tvalid_1's auc: 0.867361\n",
      "[60]\ttraining's auc: 0.887538\tvalid_1's auc: 0.886351\n",
      "[80]\ttraining's auc: 0.899187\tvalid_1's auc: 0.897666\n",
      "[100]\ttraining's auc: 0.90571\tvalid_1's auc: 0.903771\n",
      "Did not meet early stopping. Best iteration is:\n",
      "[100]\ttraining's auc: 0.90571\tvalid_1's auc: 0.903771\n",
      "=====================================\n",
      "Validation AUC:0.9037711289173991\n",
      "=====================================\n",
      "=====================================\n",
      "Validation f1 score:86.47825127861746\n",
      "=====================================\n"
     ]
    },
    {
     "name": "stderr",
     "output_type": "stream",
     "text": [
      "\u001b[32m[I 2021-04-18 14:41:54,389]\u001b[0m Trial 25 finished with value: 0.9037711289173991 and parameters: {'learning_rate': 0.06379261150552702, 'colsample_bytree': 0.9147026576732995, 'subsample': 0.8615172361853989}. Best is trial 23 with value: 0.9164365758321581.\u001b[0m\n",
      "2021/04/18 14:41:55 WARNING mlflow.utils.autologging_utils: You are using an unsupported version of lightgbm. If you encounter errors during autologging, try upgrading / downgrading lightgbm to a supported version, or try upgrading MLflow.\n"
     ]
    },
    {
     "name": "stdout",
     "output_type": "stream",
     "text": [
      "Training until validation scores don't improve for 100 rounds\n",
      "[20]\ttraining's auc: 0.833915\tvalid_1's auc: 0.832209\n",
      "[40]\ttraining's auc: 0.848609\tvalid_1's auc: 0.847321\n",
      "[60]\ttraining's auc: 0.856776\tvalid_1's auc: 0.85529\n",
      "[80]\ttraining's auc: 0.864887\tvalid_1's auc: 0.863064\n",
      "[100]\ttraining's auc: 0.872921\tvalid_1's auc: 0.870785\n",
      "Did not meet early stopping. Best iteration is:\n",
      "[100]\ttraining's auc: 0.872921\tvalid_1's auc: 0.870785\n",
      "=====================================\n",
      "Validation AUC:0.8707853963434129\n",
      "=====================================\n",
      "=====================================\n",
      "Validation f1 score:81.91506588137354\n",
      "=====================================\n"
     ]
    },
    {
     "name": "stderr",
     "output_type": "stream",
     "text": [
      "\u001b[32m[I 2021-04-18 14:42:59,117]\u001b[0m Trial 26 finished with value: 0.8707853963434129 and parameters: {'learning_rate': 0.028644869161465074, 'colsample_bytree': 0.6393722028427833, 'subsample': 0.7067940268031445}. Best is trial 23 with value: 0.9164365758321581.\u001b[0m\n",
      "2021/04/18 14:43:00 WARNING mlflow.utils.autologging_utils: You are using an unsupported version of lightgbm. If you encounter errors during autologging, try upgrading / downgrading lightgbm to a supported version, or try upgrading MLflow.\n"
     ]
    },
    {
     "name": "stdout",
     "output_type": "stream",
     "text": [
      "Training until validation scores don't improve for 100 rounds\n",
      "[20]\ttraining's auc: 0.857101\tvalid_1's auc: 0.85543\n",
      "[40]\ttraining's auc: 0.888778\tvalid_1's auc: 0.887339\n",
      "[60]\ttraining's auc: 0.905178\tvalid_1's auc: 0.903276\n",
      "[80]\ttraining's auc: 0.914046\tvalid_1's auc: 0.911473\n",
      "[100]\ttraining's auc: 0.920555\tvalid_1's auc: 0.917147\n",
      "Did not meet early stopping. Best iteration is:\n",
      "[100]\ttraining's auc: 0.920555\tvalid_1's auc: 0.917147\n",
      "=====================================\n",
      "Validation AUC:0.9171468688157753\n",
      "=====================================\n",
      "=====================================\n",
      "Validation f1 score:87.89681137890868\n",
      "=====================================\n"
     ]
    },
    {
     "name": "stderr",
     "output_type": "stream",
     "text": [
      "\u001b[32m[I 2021-04-18 14:44:15,106]\u001b[0m Trial 27 finished with value: 0.9171468688157753 and parameters: {'learning_rate': 0.09789100804571241, 'colsample_bytree': 0.8204468127501213, 'subsample': 0.7816910577829784}. Best is trial 27 with value: 0.9171468688157753.\u001b[0m\n",
      "2021/04/18 14:44:17 WARNING mlflow.utils.autologging_utils: You are using an unsupported version of lightgbm. If you encounter errors during autologging, try upgrading / downgrading lightgbm to a supported version, or try upgrading MLflow.\n"
     ]
    },
    {
     "name": "stdout",
     "output_type": "stream",
     "text": [
      "Training until validation scores don't improve for 100 rounds\n",
      "[20]\ttraining's auc: 0.825129\tvalid_1's auc: 0.823788\n",
      "[40]\ttraining's auc: 0.833065\tvalid_1's auc: 0.832056\n",
      "[60]\ttraining's auc: 0.838578\tvalid_1's auc: 0.837603\n",
      "[80]\ttraining's auc: 0.845458\tvalid_1's auc: 0.844219\n",
      "[100]\ttraining's auc: 0.851269\tvalid_1's auc: 0.84989\n",
      "Did not meet early stopping. Best iteration is:\n",
      "[100]\ttraining's auc: 0.851269\tvalid_1's auc: 0.84989\n",
      "=====================================\n",
      "Validation AUC:0.8498896961905513\n",
      "=====================================\n",
      "=====================================\n",
      "Validation f1 score:80.11450580397037\n",
      "=====================================\n"
     ]
    },
    {
     "name": "stderr",
     "output_type": "stream",
     "text": [
      "\u001b[32m[I 2021-04-18 14:45:21,375]\u001b[0m Trial 28 finished with value: 0.8498896961905513 and parameters: {'learning_rate': 0.016018300963265283, 'colsample_bytree': 0.8090242984051945, 'subsample': 0.7872047294377177}. Best is trial 27 with value: 0.9171468688157753.\u001b[0m\n",
      "2021/04/18 14:45:24 WARNING mlflow.utils.autologging_utils: You are using an unsupported version of lightgbm. If you encounter errors during autologging, try upgrading / downgrading lightgbm to a supported version, or try upgrading MLflow.\n"
     ]
    },
    {
     "name": "stdout",
     "output_type": "stream",
     "text": [
      "Training until validation scores don't improve for 100 rounds\n",
      "[20]\ttraining's auc: 0.817589\tvalid_1's auc: 0.816066\n",
      "[40]\ttraining's auc: 0.814012\tvalid_1's auc: 0.812718\n",
      "[60]\ttraining's auc: 0.812299\tvalid_1's auc: 0.810835\n",
      "[80]\ttraining's auc: 0.814582\tvalid_1's auc: 0.813186\n",
      "[100]\ttraining's auc: 0.81934\tvalid_1's auc: 0.818103\n",
      "Did not meet early stopping. Best iteration is:\n",
      "[23]\ttraining's auc: 0.821385\tvalid_1's auc: 0.820354\n",
      "=====================================\n",
      "Validation AUC:0.8203544252354271\n",
      "=====================================\n",
      "=====================================\n",
      "Validation f1 score:66.23195524719897\n",
      "=====================================\n"
     ]
    },
    {
     "name": "stderr",
     "output_type": "stream",
     "text": [
      "\u001b[32m[I 2021-04-18 14:46:11,878]\u001b[0m Trial 29 finished with value: 0.8203544252354271 and parameters: {'learning_rate': 0.0011820093925574019, 'colsample_bytree': 0.7681870159882112, 'subsample': 0.8920941317547995}. Best is trial 27 with value: 0.9171468688157753.\u001b[0m\n",
      "2021/04/18 14:46:13 WARNING mlflow.utils.autologging_utils: You are using an unsupported version of lightgbm. If you encounter errors during autologging, try upgrading / downgrading lightgbm to a supported version, or try upgrading MLflow.\n"
     ]
    },
    {
     "name": "stdout",
     "output_type": "stream",
     "text": [
      "Training until validation scores don't improve for 100 rounds\n",
      "[20]\ttraining's auc: 0.842488\tvalid_1's auc: 0.841719\n",
      "[40]\ttraining's auc: 0.869265\tvalid_1's auc: 0.867991\n",
      "[60]\ttraining's auc: 0.889602\tvalid_1's auc: 0.888513\n",
      "[80]\ttraining's auc: 0.898874\tvalid_1's auc: 0.8972\n",
      "[100]\ttraining's auc: 0.906576\tvalid_1's auc: 0.904183\n",
      "Did not meet early stopping. Best iteration is:\n",
      "[100]\ttraining's auc: 0.906576\tvalid_1's auc: 0.904183\n",
      "=====================================\n",
      "Validation AUC:0.9041831059196701\n",
      "=====================================\n",
      "=====================================\n",
      "Validation f1 score:86.27892558511476\n",
      "=====================================\n"
     ]
    },
    {
     "name": "stderr",
     "output_type": "stream",
     "text": [
      "\u001b[32m[I 2021-04-18 14:46:41,766]\u001b[0m Trial 30 finished with value: 0.9041831059196701 and parameters: {'learning_rate': 0.06366279082364887, 'colsample_bytree': 0.9360905164789527, 'subsample': 0.9454685164172257}. Best is trial 27 with value: 0.9171468688157753.\u001b[0m\n",
      "2021/04/18 14:46:43 WARNING mlflow.utils.autologging_utils: You are using an unsupported version of lightgbm. If you encounter errors during autologging, try upgrading / downgrading lightgbm to a supported version, or try upgrading MLflow.\n"
     ]
    },
    {
     "name": "stdout",
     "output_type": "stream",
     "text": [
      "Training until validation scores don't improve for 100 rounds\n",
      "[20]\ttraining's auc: 0.85344\tvalid_1's auc: 0.852351\n",
      "[40]\ttraining's auc: 0.889372\tvalid_1's auc: 0.887632\n",
      "[60]\ttraining's auc: 0.901803\tvalid_1's auc: 0.899586\n",
      "[80]\ttraining's auc: 0.912701\tvalid_1's auc: 0.909961\n",
      "[100]\ttraining's auc: 0.920133\tvalid_1's auc: 0.916621\n",
      "Did not meet early stopping. Best iteration is:\n",
      "[100]\ttraining's auc: 0.920133\tvalid_1's auc: 0.916621\n",
      "=====================================\n",
      "Validation AUC:0.9166210749556316\n",
      "=====================================\n",
      "=====================================\n",
      "Validation f1 score:87.7279282465797\n",
      "=====================================\n"
     ]
    },
    {
     "name": "stderr",
     "output_type": "stream",
     "text": [
      "\u001b[32m[I 2021-04-18 14:47:14,604]\u001b[0m Trial 31 finished with value: 0.9166210749556316 and parameters: {'learning_rate': 0.09634752607773946, 'colsample_bytree': 0.8669431725406348, 'subsample': 0.6670408965693327}. Best is trial 27 with value: 0.9171468688157753.\u001b[0m\n",
      "2021/04/18 14:47:16 WARNING mlflow.utils.autologging_utils: You are using an unsupported version of lightgbm. If you encounter errors during autologging, try upgrading / downgrading lightgbm to a supported version, or try upgrading MLflow.\n"
     ]
    },
    {
     "name": "stdout",
     "output_type": "stream",
     "text": [
      "Training until validation scores don't improve for 100 rounds\n",
      "[20]\ttraining's auc: 0.855356\tvalid_1's auc: 0.854496\n",
      "[40]\ttraining's auc: 0.888616\tvalid_1's auc: 0.887062\n",
      "[60]\ttraining's auc: 0.903936\tvalid_1's auc: 0.9016\n",
      "[80]\ttraining's auc: 0.913545\tvalid_1's auc: 0.910686\n",
      "[100]\ttraining's auc: 0.920439\tvalid_1's auc: 0.916961\n",
      "Did not meet early stopping. Best iteration is:\n",
      "[100]\ttraining's auc: 0.920439\tvalid_1's auc: 0.916961\n",
      "=====================================\n",
      "Validation AUC:0.9169606802048456\n",
      "=====================================\n",
      "=====================================\n",
      "Validation f1 score:87.87599225439253\n",
      "=====================================\n"
     ]
    },
    {
     "name": "stderr",
     "output_type": "stream",
     "text": [
      "\u001b[32m[I 2021-04-18 14:47:51,626]\u001b[0m Trial 32 finished with value: 0.9169606802048456 and parameters: {'learning_rate': 0.0984052617227734, 'colsample_bytree': 0.8606086466611862, 'subsample': 0.6563684928689014}. Best is trial 27 with value: 0.9171468688157753.\u001b[0m\n",
      "2021/04/18 14:47:53 WARNING mlflow.utils.autologging_utils: You are using an unsupported version of lightgbm. If you encounter errors during autologging, try upgrading / downgrading lightgbm to a supported version, or try upgrading MLflow.\n"
     ]
    },
    {
     "name": "stdout",
     "output_type": "stream",
     "text": [
      "Training until validation scores don't improve for 100 rounds\n",
      "[20]\ttraining's auc: 0.832809\tvalid_1's auc: 0.832544\n",
      "[40]\ttraining's auc: 0.848058\tvalid_1's auc: 0.847734\n",
      "[60]\ttraining's auc: 0.866572\tvalid_1's auc: 0.865811\n",
      "[80]\ttraining's auc: 0.881826\tvalid_1's auc: 0.880788\n",
      "[100]\ttraining's auc: 0.893259\tvalid_1's auc: 0.892173\n",
      "Did not meet early stopping. Best iteration is:\n",
      "[100]\ttraining's auc: 0.893259\tvalid_1's auc: 0.892173\n",
      "=====================================\n",
      "Validation AUC:0.8921728362218544\n",
      "=====================================\n",
      "=====================================\n",
      "Validation f1 score:84.7278593726696\n",
      "=====================================\n"
     ]
    },
    {
     "name": "stderr",
     "output_type": "stream",
     "text": [
      "\u001b[32m[I 2021-04-18 14:48:20,576]\u001b[0m Trial 33 finished with value: 0.8921728362218544 and parameters: {'learning_rate': 0.04137784591544719, 'colsample_bytree': 0.8464091393779001, 'subsample': 0.656194669733061}. Best is trial 27 with value: 0.9171468688157753.\u001b[0m\n",
      "2021/04/18 14:48:21 WARNING mlflow.utils.autologging_utils: You are using an unsupported version of lightgbm. If you encounter errors during autologging, try upgrading / downgrading lightgbm to a supported version, or try upgrading MLflow.\n"
     ]
    },
    {
     "name": "stdout",
     "output_type": "stream",
     "text": [
      "Training until validation scores don't improve for 100 rounds\n",
      "[20]\ttraining's auc: 0.856979\tvalid_1's auc: 0.855391\n",
      "[40]\ttraining's auc: 0.891683\tvalid_1's auc: 0.889706\n",
      "[60]\ttraining's auc: 0.904329\tvalid_1's auc: 0.901573\n",
      "[80]\ttraining's auc: 0.913383\tvalid_1's auc: 0.910105\n",
      "[100]\ttraining's auc: 0.920239\tvalid_1's auc: 0.916583\n",
      "Did not meet early stopping. Best iteration is:\n",
      "[100]\ttraining's auc: 0.920239\tvalid_1's auc: 0.916583\n",
      "=====================================\n",
      "Validation AUC:0.9165834741870955\n",
      "=====================================\n",
      "=====================================\n",
      "Validation f1 score:87.75746433690318\n",
      "=====================================\n"
     ]
    },
    {
     "name": "stderr",
     "output_type": "stream",
     "text": [
      "\u001b[32m[I 2021-04-18 14:49:05,995]\u001b[0m Trial 34 finished with value: 0.9165834741870955 and parameters: {'learning_rate': 0.09831015180910678, 'colsample_bytree': 0.7658477939815294, 'subsample': 0.5651558948000437}. Best is trial 27 with value: 0.9171468688157753.\u001b[0m\n",
      "2021/04/18 14:49:10 WARNING mlflow.utils.autologging_utils: You are using an unsupported version of lightgbm. If you encounter errors during autologging, try upgrading / downgrading lightgbm to a supported version, or try upgrading MLflow.\n"
     ]
    },
    {
     "name": "stdout",
     "output_type": "stream",
     "text": [
      "Training until validation scores don't improve for 100 rounds\n",
      "[20]\ttraining's auc: 0.823925\tvalid_1's auc: 0.822355\n",
      "[40]\ttraining's auc: 0.82731\tvalid_1's auc: 0.826027\n",
      "[60]\ttraining's auc: 0.830195\tvalid_1's auc: 0.828914\n",
      "[80]\ttraining's auc: 0.834172\tvalid_1's auc: 0.832908\n",
      "[100]\ttraining's auc: 0.839313\tvalid_1's auc: 0.838236\n",
      "Did not meet early stopping. Best iteration is:\n",
      "[100]\ttraining's auc: 0.839313\tvalid_1's auc: 0.838236\n",
      "=====================================\n",
      "Validation AUC:0.8382358578333062\n",
      "=====================================\n",
      "=====================================\n",
      "Validation f1 score:78.47959630131344\n",
      "=====================================\n"
     ]
    },
    {
     "name": "stderr",
     "output_type": "stream",
     "text": [
      "\u001b[32m[I 2021-04-18 14:49:42,586]\u001b[0m Trial 35 finished with value: 0.8382358578333062 and parameters: {'learning_rate': 0.007911826717862768, 'colsample_bytree': 0.75122993907536, 'subsample': 0.5757973644013197}. Best is trial 27 with value: 0.9171468688157753.\u001b[0m\n",
      "2021/04/18 14:49:43 WARNING mlflow.utils.autologging_utils: You are using an unsupported version of lightgbm. If you encounter errors during autologging, try upgrading / downgrading lightgbm to a supported version, or try upgrading MLflow.\n"
     ]
    },
    {
     "name": "stdout",
     "output_type": "stream",
     "text": [
      "Training until validation scores don't improve for 100 rounds\n",
      "[20]\ttraining's auc: 0.847483\tvalid_1's auc: 0.845989\n",
      "[40]\ttraining's auc: 0.872405\tvalid_1's auc: 0.870646\n",
      "[60]\ttraining's auc: 0.892327\tvalid_1's auc: 0.890294\n",
      "[80]\ttraining's auc: 0.901932\tvalid_1's auc: 0.899347\n",
      "[100]\ttraining's auc: 0.910059\tvalid_1's auc: 0.907187\n",
      "Did not meet early stopping. Best iteration is:\n",
      "[100]\ttraining's auc: 0.910059\tvalid_1's auc: 0.907187\n",
      "=====================================\n",
      "Validation AUC:0.9071868469575477\n",
      "=====================================\n",
      "=====================================\n",
      "Validation f1 score:86.49631006196294\n",
      "=====================================\n"
     ]
    },
    {
     "name": "stderr",
     "output_type": "stream",
     "text": [
      "\u001b[32m[I 2021-04-18 14:50:12,580]\u001b[0m Trial 36 finished with value: 0.9071868469575477 and parameters: {'learning_rate': 0.06914826854701721, 'colsample_bytree': 0.7964480054110606, 'subsample': 0.5631482062042256}. Best is trial 27 with value: 0.9171468688157753.\u001b[0m\n",
      "2021/04/18 14:50:13 WARNING mlflow.utils.autologging_utils: You are using an unsupported version of lightgbm. If you encounter errors during autologging, try upgrading / downgrading lightgbm to a supported version, or try upgrading MLflow.\n"
     ]
    },
    {
     "name": "stdout",
     "output_type": "stream",
     "text": [
      "Training until validation scores don't improve for 100 rounds\n",
      "[20]\ttraining's auc: 0.839863\tvalid_1's auc: 0.839179\n",
      "[40]\ttraining's auc: 0.859326\tvalid_1's auc: 0.85831\n",
      "[60]\ttraining's auc: 0.877826\tvalid_1's auc: 0.876824\n",
      "[80]\ttraining's auc: 0.891619\tvalid_1's auc: 0.89027\n",
      "[100]\ttraining's auc: 0.900644\tvalid_1's auc: 0.898972\n",
      "Did not meet early stopping. Best iteration is:\n",
      "[100]\ttraining's auc: 0.900644\tvalid_1's auc: 0.898972\n",
      "=====================================\n",
      "Validation AUC:0.8989723525963975\n",
      "=====================================\n",
      "=====================================\n",
      "Validation f1 score:85.67782116452123\n",
      "=====================================\n"
     ]
    },
    {
     "name": "stderr",
     "output_type": "stream",
     "text": [
      "\u001b[32m[I 2021-04-18 14:51:13,137]\u001b[0m Trial 37 finished with value: 0.8989723525963975 and parameters: {'learning_rate': 0.051852492624258374, 'colsample_bytree': 0.8438167587880953, 'subsample': 0.5195868295653016}. Best is trial 27 with value: 0.9171468688157753.\u001b[0m\n",
      "2021/04/18 14:51:14 WARNING mlflow.utils.autologging_utils: You are using an unsupported version of lightgbm. If you encounter errors during autologging, try upgrading / downgrading lightgbm to a supported version, or try upgrading MLflow.\n"
     ]
    },
    {
     "name": "stdout",
     "output_type": "stream",
     "text": [
      "Training until validation scores don't improve for 100 rounds\n",
      "[20]\ttraining's auc: 0.856932\tvalid_1's auc: 0.855546\n",
      "[40]\ttraining's auc: 0.890737\tvalid_1's auc: 0.888823\n",
      "[60]\ttraining's auc: 0.904689\tvalid_1's auc: 0.901762\n",
      "[80]\ttraining's auc: 0.913132\tvalid_1's auc: 0.909635\n",
      "[100]\ttraining's auc: 0.920239\tvalid_1's auc: 0.916397\n",
      "Did not meet early stopping. Best iteration is:\n",
      "[100]\ttraining's auc: 0.920239\tvalid_1's auc: 0.916397\n",
      "=====================================\n",
      "Validation AUC:0.916396611715711\n",
      "=====================================\n",
      "=====================================\n",
      "Validation f1 score:87.74703083007044\n",
      "=====================================\n"
     ]
    },
    {
     "name": "stderr",
     "output_type": "stream",
     "text": [
      "\u001b[32m[I 2021-04-18 14:51:53,746]\u001b[0m Trial 38 finished with value: 0.916396611715711 and parameters: {'learning_rate': 0.0990172452413256, 'colsample_bytree': 0.7734126989852521, 'subsample': 0.676245554113416}. Best is trial 27 with value: 0.9171468688157753.\u001b[0m\n",
      "2021/04/18 14:51:55 WARNING mlflow.utils.autologging_utils: You are using an unsupported version of lightgbm. If you encounter errors during autologging, try upgrading / downgrading lightgbm to a supported version, or try upgrading MLflow.\n"
     ]
    },
    {
     "name": "stdout",
     "output_type": "stream",
     "text": [
      "Training until validation scores don't improve for 100 rounds\n",
      "[20]\ttraining's auc: 0.818636\tvalid_1's auc: 0.816786\n",
      "[40]\ttraining's auc: 0.819014\tvalid_1's auc: 0.817724\n",
      "[60]\ttraining's auc: 0.818987\tvalid_1's auc: 0.817784\n",
      "[80]\ttraining's auc: 0.823302\tvalid_1's auc: 0.822252\n",
      "[100]\ttraining's auc: 0.825835\tvalid_1's auc: 0.824951\n",
      "Did not meet early stopping. Best iteration is:\n",
      "[99]\ttraining's auc: 0.825931\tvalid_1's auc: 0.825076\n",
      "=====================================\n",
      "Validation AUC:0.8250757199636066\n",
      "=====================================\n",
      "=====================================\n",
      "Validation f1 score:66.23195524719897\n",
      "=====================================\n"
     ]
    },
    {
     "name": "stderr",
     "output_type": "stream",
     "text": [
      "\u001b[32m[I 2021-04-18 14:52:23,940]\u001b[0m Trial 39 finished with value: 0.8250757199636066 and parameters: {'learning_rate': 0.002048925984772501, 'colsample_bytree': 0.7025974840379042, 'subsample': 0.46060154599361697}. Best is trial 27 with value: 0.9171468688157753.\u001b[0m\n"
     ]
    },
    {
     "name": "stdout",
     "output_type": "stream",
     "text": [
      "score: 0.9171468688157753\n",
      "Best hyperparameters: {'learning_rate': 0.09789100804571241, 'colsample_bytree': 0.8204468127501213, 'subsample': 0.7816910577829784}\n"
     ]
    }
   ],
   "source": [
    "# Create a study object and optimize the objective function.\n",
    "study = optuna.create_study(direction='maximize')\n",
    "study.optimize(objective, n_trials=40)\n",
    "trial = study.best_trial\n",
    "print('score: {}'.format(trial.value))\n",
    "print(\"Best hyperparameters: {}\".format(trial.params))"
   ]
  },
  {
   "cell_type": "markdown",
   "id": "d04deeea",
   "metadata": {},
   "source": [
    "## Model Validation on test data"
   ]
  },
  {
   "cell_type": "code",
   "execution_count": 263,
   "id": "207869fe",
   "metadata": {},
   "outputs": [
    {
     "name": "stdout",
     "output_type": "stream",
     "text": [
      "=====================================\n",
      "Validation AUC:0.6707697944535749\n",
      "=====================================\n"
     ]
    }
   ],
   "source": [
    "# Load best model\n",
    "lgb_best_model = mlflow.sklearn.load_model(\"./mlflow-run/5ae87c7ebe0346daac0d0b362d1327c7/artifacts/model\")\n",
    "X_test = X_test[features]\n",
    "\n",
    "# Make prediction aganist Validation data\n",
    "lgb_best_val_prediction = lgb_best_model.predict(X_test)\n",
    "\n",
    "fpr, tpr, thresholds = roc_curve(y_test, lgb_best_val_prediction)\n",
    "roc_auc = auc(fpr, tpr) # compute area under the curve\n",
    "print(\"=====================================\")\n",
    "print(\"Test AUC:{}\".format(roc_auc))\n",
    "print(\"=====================================\")   "
   ]
  },
  {
   "cell_type": "code",
   "execution_count": null,
   "id": "66ae94fd",
   "metadata": {},
   "outputs": [],
   "source": []
  }
 ],
 "metadata": {
  "kernelspec": {
   "display_name": "Python 3",
   "language": "python",
   "name": "python3"
  },
  "language_info": {
   "codemirror_mode": {
    "name": "ipython",
    "version": 3
   },
   "file_extension": ".py",
   "mimetype": "text/x-python",
   "name": "python",
   "nbconvert_exporter": "python",
   "pygments_lexer": "ipython3",
   "version": "3.7.10"
  }
 },
 "nbformat": 4,
 "nbformat_minor": 5
}
